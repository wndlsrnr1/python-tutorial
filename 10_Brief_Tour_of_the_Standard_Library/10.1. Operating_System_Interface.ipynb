{
 "cells": [
  {
   "cell_type": "markdown",
   "id": "ffd47c3b",
   "metadata": {},
   "source": [
    "The os module provides dozens of functions for interacting with the operating system:"
   ]
  },
  {
   "cell_type": "code",
   "execution_count": null,
   "id": "13ca778d",
   "metadata": {},
   "outputs": [
    {
     "name": "stdout",
     "output_type": "stream",
     "text": [
      "/home/jik/projects/python/tutorial/10_Brief_Tour_of_the_Standard_Library/server/accesslogs\n",
      "0\n",
      "0\n",
      "None\n",
      "0\n"
     ]
    },
    {
     "ename": "FileNotFoundError",
     "evalue": "[Errno 2] No such file or directory: 'server/accesslogs/today'",
     "output_type": "error",
     "traceback": [
      "\u001b[31m---------------------------------------------------------------------------\u001b[39m",
      "\u001b[31mFileNotFoundError\u001b[39m                         Traceback (most recent call last)",
      "\u001b[36mCell\u001b[39m\u001b[36m \u001b[39m\u001b[32mIn[6]\u001b[39m\u001b[32m, line 7\u001b[39m\n\u001b[32m      5\u001b[39m \u001b[38;5;28mprint\u001b[39m(os.chdir(\u001b[33m\"\u001b[39m\u001b[33mserver/accesslogs\u001b[39m\u001b[33m\"\u001b[39m)) \u001b[38;5;66;03m# Change current working directory\u001b[39;00m\n\u001b[32m      6\u001b[39m \u001b[38;5;28mprint\u001b[39m(os.system(\u001b[33m\"\u001b[39m\u001b[33mmkdir today\u001b[39m\u001b[33m\"\u001b[39m)) \u001b[38;5;66;03m# Run the command mkdir in the system shell\u001b[39;00m\n\u001b[32m----> \u001b[39m\u001b[32m7\u001b[39m \u001b[38;5;28mprint\u001b[39m(\u001b[43mos\u001b[49m\u001b[43m.\u001b[49m\u001b[43mrmdir\u001b[49m\u001b[43m(\u001b[49m\u001b[33;43m\"\u001b[39;49m\u001b[33;43mserver/accesslogs/today\u001b[39;49m\u001b[33;43m\"\u001b[39;49m\u001b[43m)\u001b[49m)\n",
      "\u001b[31mFileNotFoundError\u001b[39m: [Errno 2] No such file or directory: 'server/accesslogs/today'"
     ]
    }
   ],
   "source": [
    "import os\n",
    "print(os.getcwd()) # Return the current working directory\n",
    "print(os.system(\"mkdir server\"))\n",
    "print(os.system(\"mkdir server/accesslogs\"))\n",
    "print(os.chdir(\"server/accesslogs\")) # Change current working directory\n",
    "print(os.system(\"mkdir today\")) # Run the command mkdir in the system shell"
   ]
  },
  {
   "cell_type": "markdown",
   "id": "dfbdbcc9",
   "metadata": {},
   "source": [
    "Be sure to use the import os style instead of os import *. This will keep os.open() from shadowing the built-in open() function which operates much differently.\n",
    "\n",
    "The built-in dir() and help() functions are useful as interactive aids for working with large modules like os:"
   ]
  },
  {
   "cell_type": "code",
   "execution_count": 12,
   "id": "5c03e712",
   "metadata": {},
   "outputs": [
    {
     "name": "stdout",
     "output_type": "stream",
     "text": [
      "['CLD_CONTINUED', 'CLD_DUMPED', 'CLD_EXITED', 'CLD_KILLED', 'CLD_STOPPED', 'CLD_TRAPPED', 'CLONE_FILES', 'CLONE_FS', 'CLONE_NEWCGROUP', 'CLONE_NEWIPC', 'CLONE_NEWNET', 'CLONE_NEWNS', 'CLONE_NEWPID', 'CLONE_NEWTIME', 'CLONE_NEWUSER', 'CLONE_NEWUTS', 'CLONE_SIGHAND', 'CLONE_SYSVSEM', 'CLONE_THREAD', 'CLONE_VM', 'DirEntry', 'EFD_CLOEXEC', 'EFD_NONBLOCK', 'EFD_SEMAPHORE', 'EX_CANTCREAT', 'EX_CONFIG', 'EX_DATAERR', 'EX_IOERR', 'EX_NOHOST', 'EX_NOINPUT', 'EX_NOPERM', 'EX_NOUSER', 'EX_OK', 'EX_OSERR', 'EX_OSFILE', 'EX_PROTOCOL', 'EX_SOFTWARE', 'EX_TEMPFAIL', 'EX_UNAVAILABLE', 'EX_USAGE', 'F_LOCK', 'F_OK', 'F_TEST', 'F_TLOCK', 'F_ULOCK', 'GRND_NONBLOCK', 'GRND_RANDOM', 'GenericAlias', 'MFD_ALLOW_SEALING', 'MFD_CLOEXEC', 'MFD_HUGETLB', 'MFD_HUGE_16GB', 'MFD_HUGE_16MB', 'MFD_HUGE_1GB', 'MFD_HUGE_1MB', 'MFD_HUGE_256MB', 'MFD_HUGE_2GB', 'MFD_HUGE_2MB', 'MFD_HUGE_32MB', 'MFD_HUGE_512KB', 'MFD_HUGE_512MB', 'MFD_HUGE_64KB', 'MFD_HUGE_8MB', 'MFD_HUGE_MASK', 'MFD_HUGE_SHIFT', 'Mapping', 'MutableMapping', 'NGROUPS_MAX', 'O_ACCMODE', 'O_APPEND', 'O_ASYNC', 'O_CLOEXEC', 'O_CREAT', 'O_DIRECT', 'O_DIRECTORY', 'O_DSYNC', 'O_EXCL', 'O_FSYNC', 'O_LARGEFILE', 'O_NDELAY', 'O_NOATIME', 'O_NOCTTY', 'O_NOFOLLOW', 'O_NONBLOCK', 'O_PATH', 'O_RDONLY', 'O_RDWR', 'O_RSYNC', 'O_SYNC', 'O_TMPFILE', 'O_TRUNC', 'O_WRONLY', 'POSIX_FADV_DONTNEED', 'POSIX_FADV_NOREUSE', 'POSIX_FADV_NORMAL', 'POSIX_FADV_RANDOM', 'POSIX_FADV_SEQUENTIAL', 'POSIX_FADV_WILLNEED', 'POSIX_SPAWN_CLOSE', 'POSIX_SPAWN_DUP2', 'POSIX_SPAWN_OPEN', 'PRIO_PGRP', 'PRIO_PROCESS', 'PRIO_USER', 'P_ALL', 'P_NOWAIT', 'P_NOWAITO', 'P_PGID', 'P_PID', 'P_PIDFD', 'P_WAIT', 'PathLike', 'RTLD_DEEPBIND', 'RTLD_GLOBAL', 'RTLD_LAZY', 'RTLD_LOCAL', 'RTLD_NODELETE', 'RTLD_NOLOAD', 'RTLD_NOW', 'RWF_APPEND', 'RWF_DSYNC', 'RWF_HIPRI', 'RWF_NOWAIT', 'RWF_SYNC', 'R_OK', 'SCHED_BATCH', 'SCHED_FIFO', 'SCHED_IDLE', 'SCHED_OTHER', 'SCHED_RESET_ON_FORK', 'SCHED_RR', 'SEEK_CUR', 'SEEK_DATA', 'SEEK_END', 'SEEK_HOLE', 'SEEK_SET', 'SPLICE_F_MORE', 'SPLICE_F_MOVE', 'SPLICE_F_NONBLOCK', 'ST_APPEND', 'ST_MANDLOCK', 'ST_NOATIME', 'ST_NODEV', 'ST_NODIRATIME', 'ST_NOEXEC', 'ST_NOSUID', 'ST_RDONLY', 'ST_RELATIME', 'ST_SYNCHRONOUS', 'ST_WRITE', 'TMP_MAX', 'WCONTINUED', 'WCOREDUMP', 'WEXITED', 'WEXITSTATUS', 'WIFCONTINUED', 'WIFEXITED', 'WIFSIGNALED', 'WIFSTOPPED', 'WNOHANG', 'WNOWAIT', 'WSTOPPED', 'WSTOPSIG', 'WTERMSIG', 'WUNTRACED', 'W_OK', 'XATTR_CREATE', 'XATTR_REPLACE', 'XATTR_SIZE_MAX', 'X_OK', '_Environ', '__all__', '__builtins__', '__doc__', '__file__', '__loader__', '__name__', '__package__', '__spec__', '_check_methods', '_execvpe', '_exists', '_exit', '_fspath', '_fwalk', '_fwalk_close', '_fwalk_walk', '_fwalk_yield', '_get_exports_list', '_spawnvef', '_walk_symlinks_as_files', '_wrap_close', 'abc', 'abort', 'access', 'altsep', 'chdir', 'chmod', 'chown', 'chroot', 'close', 'closerange', 'confstr', 'confstr_names', 'copy_file_range', 'cpu_count', 'ctermid', 'curdir', 'defpath', 'device_encoding', 'devnull', 'dup', 'dup2', 'environ', 'environb', 'error', 'eventfd', 'eventfd_read', 'eventfd_write', 'execl', 'execle', 'execlp', 'execlpe', 'execv', 'execve', 'execvp', 'execvpe', 'extsep', 'fchdir', 'fchmod', 'fchown', 'fdatasync', 'fdopen', 'fork', 'forkpty', 'fpathconf', 'fsdecode', 'fsencode', 'fspath', 'fstat', 'fstatvfs', 'fsync', 'ftruncate', 'fwalk', 'get_blocking', 'get_exec_path', 'get_inheritable', 'get_terminal_size', 'getcwd', 'getcwdb', 'getegid', 'getenv', 'getenvb', 'geteuid', 'getgid', 'getgrouplist', 'getgroups', 'getloadavg', 'getlogin', 'getpgid', 'getpgrp', 'getpid', 'getppid', 'getpriority', 'getrandom', 'getresgid', 'getresuid', 'getsid', 'getuid', 'getxattr', 'initgroups', 'isatty', 'kill', 'killpg', 'lchown', 'linesep', 'link', 'listdir', 'listxattr', 'lockf', 'login_tty', 'lseek', 'lstat', 'major', 'makedev', 'makedirs', 'memfd_create', 'minor', 'mkdir', 'mkfifo', 'mknod', 'name', 'nice', 'open', 'openpty', 'pardir', 'path', 'pathconf', 'pathconf_names', 'pathsep', 'pidfd_open', 'pipe', 'pipe2', 'popen', 'posix_fadvise', 'posix_fallocate', 'posix_spawn', 'posix_spawnp', 'pread', 'preadv', 'putenv', 'pwrite', 'pwritev', 'read', 'readlink', 'readv', 'register_at_fork', 'remove', 'removedirs', 'removexattr', 'rename', 'renames', 'replace', 'rmdir', 'scandir', 'sched_get_priority_max', 'sched_get_priority_min', 'sched_getaffinity', 'sched_getparam', 'sched_getscheduler', 'sched_param', 'sched_rr_get_interval', 'sched_setaffinity', 'sched_setparam', 'sched_setscheduler', 'sched_yield', 'sendfile', 'sep', 'set_blocking', 'set_inheritable', 'setegid', 'seteuid', 'setgid', 'setgroups', 'setns', 'setpgid', 'setpgrp', 'setpriority', 'setregid', 'setresgid', 'setresuid', 'setreuid', 'setsid', 'setuid', 'setxattr', 'spawnl', 'spawnle', 'spawnlp', 'spawnlpe', 'spawnv', 'spawnve', 'spawnvp', 'spawnvpe', 'splice', 'st', 'stat', 'stat_result', 'statvfs', 'statvfs_result', 'strerror', 'supports_bytes_environ', 'supports_dir_fd', 'supports_effective_ids', 'supports_fd', 'supports_follow_symlinks', 'symlink', 'sync', 'sys', 'sysconf', 'sysconf_names', 'system', 'tcgetpgrp', 'tcsetpgrp', 'terminal_size', 'times', 'times_result', 'truncate', 'ttyname', 'umask', 'uname', 'uname_result', 'unlink', 'unsetenv', 'unshare', 'urandom', 'utime', 'wait', 'wait3', 'wait4', 'waitid', 'waitid_result', 'waitpid', 'waitstatus_to_exitcode', 'walk', 'write', 'writev']\n"
     ]
    }
   ],
   "source": [
    "import os\n",
    "\n",
    "from IPython.display import Math\n",
    "# returns a list of all module functions\n",
    "print(dir(os))\n",
    "# returns an extensive manual page created from the module's docstrings\n",
    "# print(help(os))\n",
    "\n",
    "#help(Math)"
   ]
  },
  {
   "cell_type": "code",
   "execution_count": null,
   "id": "2f2173ab",
   "metadata": {},
   "outputs": [],
   "source": [
    "# import shutil\n",
    "# shutil.copyfile(\"data.db\", \"archive.db\")\n",
    "# shutil.move(\"/build/executables\", \"installdir\")"
   ]
  },
  {
   "cell_type": "markdown",
   "id": "2e6d9545",
   "metadata": {},
   "source": [
    "10.2. File Wildcards\n",
    "\n",
    "The glob module provides a function for making file lists from directory wildcard searches:\n"
   ]
  },
  {
   "cell_type": "code",
   "execution_count": 22,
   "id": "307c4185",
   "metadata": {},
   "outputs": [
    {
     "name": "stdout",
     "output_type": "stream",
     "text": [
      "[]\n"
     ]
    }
   ],
   "source": [
    "import glob\n",
    "from typing import Any, List\n",
    "lists: List[Any] = glob.glob(\"*.*\", dir_fd=\"../\")\n",
    "print(lists)"
   ]
  },
  {
   "cell_type": "markdown",
   "id": "cbe5c800",
   "metadata": {},
   "source": [
    "10.3. Command Line Arguments\n",
    "\n",
    "Common utility scripts often need to process command line arguments. Theses argumnets are stored in the sys module's argv attribute as a list. For instance, let's take the following demo.py file."
   ]
  },
  {
   "cell_type": "code",
   "execution_count": 23,
   "id": "6dd8bfc0",
   "metadata": {},
   "outputs": [
    {
     "name": "stdout",
     "output_type": "stream",
     "text": [
      "['/home/jik/projects/python/tutorial/venv/lib/python3.12/site-packages/ipykernel_launcher.py', '--f=/run/user/1000/jupyter/runtime/kernel-v3f07334edf7edb708c4f5f59c98e800f3205ed129.json']\n"
     ]
    }
   ],
   "source": [
    "import sys\n",
    "print(sys.argv)"
   ]
  },
  {
   "cell_type": "markdown",
   "id": "931e29ae",
   "metadata": {},
   "source": [
    "Here is the output from running python demo.py onw two three at the command line:\n",
    "\n",
    "```py\n",
    "[\"demo.py\", \"one\", \"two\", \"three\"]\n",
    "```"
   ]
  },
  {
   "cell_type": "markdown",
   "id": "f00ed683",
   "metadata": {},
   "source": [
    "The argparse module provides a more shphisticated mechanism to process command line arguments. The following script extracts one or more filenames and an optional number of lines to be displayed:\n"
   ]
  },
  {
   "cell_type": "code",
   "execution_count": null,
   "id": "893ebe06",
   "metadata": {},
   "outputs": [],
   "source": [
    "import argparse\n",
    "\n",
    "parser = argparse.ArgumentParser(\n",
    "    prog=\"top\",\n",
    "    description=\"Show top lines from each file\"\n",
    ")\n",
    "parser.add_argument(\"filenames\", nargs=\"+\")\n",
    "parser.add_argument(\"-l\", \"--lines\", type=int, default=10)\n",
    "args = parser.parse_args()\n",
    "print(args)"
   ]
  },
  {
   "cell_type": "markdown",
   "id": "4b191c46",
   "metadata": {},
   "source": [
    "When run at the command line with python top.py --lines=5 alpha.txt beta.txt, the script sets args.lines to 5  and args.filenames to [\"alpha.txt\", \"beta.txt\"]."
   ]
  },
  {
   "cell_type": "markdown",
   "id": "a0b9a698",
   "metadata": {},
   "source": [
    "10.4. Error Output Redirection and Program Termination\n",
    "\n",
    "The sys module also has attributes for stdin, stdout, and stderr. The latter is useful for emitting warnings and error messages to make them visible even when stdout has been redirected:"
   ]
  },
  {
   "cell_type": "code",
   "execution_count": null,
   "id": "af5ce69d",
   "metadata": {},
   "outputs": [
    {
     "ename": "SystemExit",
     "evalue": "",
     "output_type": "error",
     "traceback": [
      "An exception has occurred, use %tb to see the full traceback.\n",
      "\u001b[31mSystemExit\u001b[39m\n"
     ]
    },
    {
     "name": "stderr",
     "output_type": "stream",
     "text": [
      "/home/jik/projects/python/tutorial/venv/lib/python3.12/site-packages/IPython/core/interactiveshell.py:3707: UserWarning: To exit: use 'exit', 'quit', or Ctrl-D.\n",
      "  warn(\"To exit: use 'exit', 'quit', or Ctrl-D.\", stacklevel=1)\n"
     ]
    }
   ],
   "source": [
    "import sys\n",
    "sys.stderr.writelines([\"Warning, log file not found starting a new one\"])\n",
    "result: str = sys.stdin.readline()\n",
    "sys.stdout.write(result)"
   ]
  },
  {
   "cell_type": "markdown",
   "id": "849ab592",
   "metadata": {},
   "source": [
    "The most direct way to terminate a script is to use sys.exit()"
   ]
  },
  {
   "cell_type": "markdown",
   "id": "c714ad68",
   "metadata": {},
   "source": [
    "10.5. String Pattern Matching\n",
    "\n",
    "The re(regular expression) module provides regular expression tools for advanced string processing. For complex matching and manipulation, regular expressions offer succinct, optimzed solutions: "
   ]
  },
  {
   "cell_type": "code",
   "execution_count": 1,
   "id": "641ed6d7",
   "metadata": {},
   "outputs": [
    {
     "name": "stdout",
     "output_type": "stream",
     "text": [
      "['foot', 'fell', 'fastest']\n",
      "cat in the hat\n"
     ]
    }
   ],
   "source": [
    "import re\n",
    "result = re.findall(r'\\bf[a-z]*', 'which foot or hand fell fastest')\n",
    "print(result)\n",
    "\n",
    "result = re.sub(r'(\\b[a-z]+) \\1', r'\\1', 'cat in the the hat')\n",
    "print(result)"
   ]
  },
  {
   "cell_type": "markdown",
   "id": "99916d9a",
   "metadata": {},
   "source": [
    "When only simple capabilities, string methods are preferred because they are easier to read and debug:"
   ]
  },
  {
   "cell_type": "code",
   "execution_count": 2,
   "id": "e0ea6add",
   "metadata": {},
   "outputs": [
    {
     "name": "stdout",
     "output_type": "stream",
     "text": [
      "tea for two\n"
     ]
    }
   ],
   "source": [
    "result: str = \"tea for too\".replace(\"too\", \"two\")\n",
    "\n",
    "print(result)"
   ]
  },
  {
   "cell_type": "markdown",
   "id": "467a692b",
   "metadata": {},
   "source": [
    "10.6. Mathematics\n",
    "\n",
    "The math module gives access to the underlying C library functions for floating-point math:"
   ]
  },
  {
   "cell_type": "code",
   "execution_count": 3,
   "id": "4a231321",
   "metadata": {},
   "outputs": [
    {
     "name": "stdout",
     "output_type": "stream",
     "text": [
      "0.7071067811865476\n",
      "10.0\n"
     ]
    }
   ],
   "source": [
    "import math\n",
    "\n",
    "result: float = math.cos(math.pi / 4)\n",
    "print(result)\n",
    "\n",
    "result: float = math.log(1024, 2)\n",
    "print(result)\n"
   ]
  },
  {
   "cell_type": "markdown",
   "id": "8b07b42d",
   "metadata": {},
   "source": [
    "The random module provides tools for making random selections:"
   ]
  },
  {
   "cell_type": "code",
   "execution_count": 5,
   "id": "25b79a03",
   "metadata": {},
   "outputs": [
    {
     "name": "stdout",
     "output_type": "stream",
     "text": [
      "pear\n",
      "[68, 89, 0, 86, 54, 5, 39, 9, 99, 79]\n",
      "0.4067528681361561\n",
      "3\n"
     ]
    }
   ],
   "source": [
    "import random\n",
    "from typing import List\n",
    "\n",
    "result: str = random.choice([\"apple\", \"pear\", \"banana\"])\n",
    "print(result)\n",
    "\n",
    "result: List[int] = random.sample(range(100), 10)\n",
    "print(result)\n",
    "\n",
    "result: float = random.random()\n",
    "print(result)\n",
    "\n",
    "result: int = random.randrange(6)\n",
    "print(result)"
   ]
  },
  {
   "cell_type": "markdown",
   "id": "dcb8f155",
   "metadata": {},
   "source": [
    "The statistics module calculates basic statistical properties (the mean, median, variance, etc.) of numeric data:"
   ]
  },
  {
   "cell_type": "code",
   "execution_count": null,
   "id": "e754b651",
   "metadata": {},
   "outputs": [
    {
     "name": "stdout",
     "output_type": "stream",
     "text": [
      "1.6071428571428572\n",
      "1.3720238095238095\n"
     ]
    }
   ],
   "source": [
    "import statistics\n",
    "data: List[float] = [2.75, 1.75, 1.25, 0.25, 0.5, 1.25, 3.5]\n",
    "\n",
    "result: float = statistics.mean(data)\n",
    "print(result)\n",
    "\n",
    "result: float = statistics.variance(data)\n",
    "print(result)"
   ]
  },
  {
   "cell_type": "markdown",
   "id": "fb8f3d53",
   "metadata": {},
   "source": [
    "The SciPy project <https://scipy.org> has many other modules for numerical computations."
   ]
  },
  {
   "cell_type": "markdown",
   "id": "534f543c",
   "metadata": {},
   "source": [
    "10.7. Internet Access\n",
    "\n",
    "There are a number of modules for accessing the internet and processing internet protocols. Two of the simplest are urllib.request for retrieving data from URLs and smtplib for sending mail:"
   ]
  },
  {
   "cell_type": "code",
   "execution_count": null,
   "id": "bf60e3d9",
   "metadata": {},
   "outputs": [],
   "source": [
    "import http\n",
    "from urllib.request import urlopen\n",
    "with urlopen('https://docs.python.org/3.13/tutorial/stdlib.html#internet-access') as response:\n",
    "    response: http.client.HTTPResponse = response\n",
    "    # print(type(response))\n",
    "    for line in response:\n",
    "        line: bytes = line\n",
    "        line: str = line.decode()             # Convert bytes to a str\n",
    "        # print(line)\n",
    "        if line.startswith('<section id=\"internet-access\">'):\n",
    "            print(line.rstrip()) \n",
    "\n",
    "\n",
    "import smtplib\n",
    "# basically find 25 port\n",
    "# 25 port is for SMTP(Simple Mail Transfer Protocol)\n",
    "server: smtplib.SMTP = smtplib.SMTP('localhost')\n",
    "server.sendmail(from_addr='jik@example.com', to_addrs='wndlsrnr1@ideaconcert.com', msg='Hello, world!')\n",
    "server.quit()"
   ]
  },
  {
   "cell_type": "markdown",
   "id": "aac2fbe4",
   "metadata": {},
   "source": [
    "(Note that second example needs a mailserver running on localhost)"
   ]
  },
  {
   "cell_type": "markdown",
   "id": "aec536c7",
   "metadata": {},
   "source": [
    "10.8. Dates and Times\n",
    "\n",
    "The datetime module supplies classes for manipulating dates and times in both simple and complex ways. While date and time artihmetic is supported, the focus of the implementation is on efficient member extraction for output fromatting and manipulation. The module also supports objects that are timezone aware"
   ]
  },
  {
   "cell_type": "code",
   "execution_count": null,
   "id": "3227787f",
   "metadata": {},
   "outputs": [
    {
     "name": "stdout",
     "output_type": "stream",
     "text": [
      "2025-11-01\n",
      "12-02-03. 02 Dec 03 is a Tuesday on the 02 day of December.\n",
      "61.295890410958904\n"
     ]
    }
   ],
   "source": [
    "from datetime import date, timedelta\n",
    "import datetime\n",
    "\n",
    "now: date = date.today()\n",
    "print(now)\n",
    "\n",
    "before: date = datetime.date(2003, 12, 2)\n",
    "formatted_date: str = before.strftime(\"%m-%d-%y. %d %b %y is a %A on the %d day of %B.\")\n",
    "\n",
    "print(formatted_date)\n",
    "\n",
    "# dates supports calendar arithmetic\n",
    "birthday: date = date(1964, 7, 31)\n",
    "age: timedelta = now - birthday\n",
    "\n",
    "days: int = age.days\n",
    "print(days / 365)\n",
    "\n",
    "# datetime, datetime.date, date.strftime, timedelta, timedelta.days\n",
    "\n"
   ]
  },
  {
   "cell_type": "markdown",
   "id": "f20a6865",
   "metadata": {},
   "source": [
    "10.9. Data Compression\n",
    "\n",
    "Common data archiving and compression formats are directly supported by modules including: zlib, gzip, bz2, lzma, zipfile and tarfile"
   ]
  },
  {
   "cell_type": "code",
   "execution_count": null,
   "id": "3893352b",
   "metadata": {},
   "outputs": [
    {
     "name": "stdout",
     "output_type": "stream",
     "text": [
      "41\n",
      "b'witch wich has which witches writst watch'\n",
      "b'x\\x9c+\\xcf,I\\xceP(\\xcf\\x04\\x12\\x19\\x89\\xc5\\n\\xe5\\x19\\x99`.P0\\x15\\xc8+\\xca,).Q(O\\x04r\\x01C\\xcf\\x0f\\x95'\n",
      "40\n",
      "b'witch wich has which witches writst watch'\n",
      "2668298018\n"
     ]
    }
   ],
   "source": [
    "import zlib\n",
    "s: bytes = b\"witch wich has which witches writst watch\"\n",
    "print(len(s))\n",
    "print(s)\n",
    "\n",
    "t: bytes = zlib.compress(s)\n",
    "print(t)\n",
    "print(len(t))\n",
    "\n",
    "origin: bytes = zlib.decompress(t)\n",
    "print(origin)\n",
    "\n",
    "result: int = zlib.crc32(s)\n",
    "print(result)\n",
    "\n",
    "# zlib, zlib.compress, zlib.decompress, zlib,crc32"
   ]
  },
  {
   "cell_type": "markdown",
   "id": "30862d41",
   "metadata": {},
   "source": [
    "10.10. Performance Measurement\n",
    "\n",
    "Some Python users develop a deep interest in knowing the relative performance of different appoaches to the same problem. Python provides a measurement tool that answers those questions immediately.\n",
    "\n",
    "For example, it may be tempting to use the tuple packing and unpacking feature instead of traiditional approach to swapping arguments. The timeit module quckly demonstrates a modest performance advantage:"
   ]
  },
  {
   "cell_type": "code",
   "execution_count": null,
   "id": "f30fc8a4",
   "metadata": {},
   "outputs": [],
   "source": [
    "import profile\n",
    "import pstats\n",
    "from timeit import Timer\n",
    "result: float = Timer(\"t=a; a=b; b=t\", \"a=1; b=2\").timeit()\n",
    "print(result)\n",
    "\n",
    "result: float = Timer(\"a,b = b,a\", \"a=1; b=2\").timeit()\n",
    "print(result)\n",
    "\n",
    "result: float = Timer(\"for x in y: print(x)\", \"y=range(10)\").timeit()\n",
    "print(result)\n",
    "\n",
    "# profile.run(\"for x in y: print(x)\")\n",
    "# pstats.Stats(\"restult\")"
   ]
  },
  {
   "cell_type": "markdown",
   "id": "01105d86",
   "metadata": {},
   "source": [
    "In contrast to timeit's fine level of granularity, the profile and pastats modules provides tools for identifying time critical sections in larger bloack of code."
   ]
  },
  {
   "cell_type": "markdown",
   "id": "fc81116c",
   "metadata": {},
   "source": [
    "10.11. Quality Control\n",
    "\n",
    "One approach for developing high quality software is to write tests for each function as it is developed and to run those tests frequently during the development process.\n",
    "\n",
    "The doctest module provides a tool for scanning a module and validating tests embedded in a program's docsstrings. Test contruction is as simple as cutting-and-pasting typical call along with its results into the docstring. This improves the documentation by providing the user with an example and it allows the doctest module to make sure the code remains true to the documentation:"
   ]
  },
  {
   "cell_type": "code",
   "execution_count": 22,
   "id": "217fd534",
   "metadata": {},
   "outputs": [
    {
     "data": {
      "text/plain": [
       "TestResults(failed=0, attempted=1)"
      ]
     },
     "execution_count": 22,
     "metadata": {},
     "output_type": "execute_result"
    }
   ],
   "source": [
    "def average(values: list[int]) -> float:\n",
    "    \"\"\"Computes the artithmetic mean of a list of numbers\n",
    "    >>> print(average([20, 30, 70]))\n",
    "    40.0\n",
    "    \"\"\"\n",
    "    return sum(values) / len(values)\n",
    "\n",
    "import doctest\n",
    "doctest.testmod() # automatically validate the embedded tests"
   ]
  },
  {
   "cell_type": "markdown",
   "id": "d003ca83",
   "metadata": {},
   "source": [
    "The unittest module is not as effortless as the doctest module, but it allows a more comprehensive set of tests to be maintained in a seprate file:"
   ]
  },
  {
   "cell_type": "code",
   "execution_count": null,
   "id": "646c1bf6",
   "metadata": {},
   "outputs": [
    {
     "name": "stderr",
     "output_type": "stream",
     "text": [
      "usage: ipykernel_launcher.py [-h] [-v] [-q] [--locals] [-f] [-c] [-b]\n",
      "                             [-k TESTNAMEPATTERNS]\n",
      "                             [tests ...]\n",
      "ipykernel_launcher.py: error: argument -f/--failfast: ignored explicit argument '/run/user/1000/jupyter/runtime/kernel-v329591a8cfb4c7a52a2db320577a54982663fad18.json'\n"
     ]
    },
    {
     "ename": "SystemExit",
     "evalue": "2",
     "output_type": "error",
     "traceback": [
      "An exception has occurred, use %tb to see the full traceback.\n",
      "\u001b[31mSystemExit\u001b[39m\u001b[31m:\u001b[39m 2\n"
     ]
    },
    {
     "name": "stderr",
     "output_type": "stream",
     "text": [
      "/home/jik/study/python_grammar/venv/lib/python3.11/site-packages/IPython/core/interactiveshell.py:3707: UserWarning: To exit: use 'exit', 'quit', or Ctrl-D.\n",
      "  warn(\"To exit: use 'exit', 'quit', or Ctrl-D.\", stacklevel=1)\n"
     ]
    }
   ],
   "source": [
    "import unittest\n",
    "\n",
    "class TestStatisticalFunctions(unittest.TestCase):\n",
    "    def test_average(self):\n",
    "        self.assertEqual(average([20, 30, 70]), 40.0)\n",
    "        self.assertEqual(round(average([1, 5, 7]), 1), 4.3)\n",
    "        with self.assertRaises(ZeroDivisionError):\n",
    "            average([])\n",
    "        with self.assertRaises(TypeError):\n",
    "            average(20, 30, 70)\n",
    "\n",
    "unittest.main()\n",
    "\n",
    "# unittest, Testcase, TestCase.assertEqual, TestCase.assertRaises, ZeroDivisionError, TypeError"
   ]
  },
  {
   "cell_type": "markdown",
   "id": "1dd6f6df",
   "metadata": {},
   "source": [
    "10.12. Batteries Included\n",
    "\n",
    "Python has a \"batteries included\" Philosophy. This is best seen through the sophisticated and robust capabilities of its larger packages. For example:\n",
    "\n",
    "- The xmlrpc.client and xmlrpc.server modules make implementing remote procedure calls into an almost trivial task. Despite the modules' names, no direct knowledge or handling of XML is needed. \n",
    "\n",
    "- The email package is a libarary for managing email messages, including MIME and other RFC 2822-based message documents. Unlike smtplib and poplib which actually send and receive messages, the email package has a complete toolset for building or decoding complex message structures (including attachments) and for implementing internet encoding and header protocols.\n",
    "\n",
    "- The josn package provides robust support for parsing this popular data interchange format. The csv module supports direct reading and writing of files in Comma-Separted Value format, commonly supported by databases and spreadsheets. XML processing is supported by the xml.etree.elementTree, xml.dom and xml.sax packages, Together, Theses modules and packages greatly simplify data interchange between Python applications and other tools.\n",
    "\n",
    "- The sqlite3 module is a wrapper for the SQLite database library, providing a persistent database that can be updated and accessed using slightly nonstandard SQL syntax.\n",
    "\n",
    "- Internationalization is supported by a number of modules including gettext, locale, and the codecs package."
   ]
  }
 ],
 "metadata": {
  "kernelspec": {
   "display_name": "venv",
   "language": "python",
   "name": "python3"
  },
  "language_info": {
   "codemirror_mode": {
    "name": "ipython",
    "version": 3
   },
   "file_extension": ".py",
   "mimetype": "text/x-python",
   "name": "python",
   "nbconvert_exporter": "python",
   "pygments_lexer": "ipython3",
   "version": "3.11.13"
  }
 },
 "nbformat": 4,
 "nbformat_minor": 5
}
