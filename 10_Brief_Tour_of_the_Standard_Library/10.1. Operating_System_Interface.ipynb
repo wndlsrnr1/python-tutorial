{
 "cells": [
  {
   "cell_type": "markdown",
   "id": "ffd47c3b",
   "metadata": {},
   "source": [
    "The os module provides dozens of functions for interacting with the operating system:"
   ]
  },
  {
   "cell_type": "code",
   "execution_count": null,
   "id": "13ca778d",
   "metadata": {},
   "outputs": [
    {
     "name": "stdout",
     "output_type": "stream",
     "text": [
      "/home/jik/projects/python/tutorial/10_Brief_Tour_of_the_Standard_Library/server/accesslogs\n",
      "0\n",
      "0\n",
      "None\n",
      "0\n"
     ]
    },
    {
     "ename": "FileNotFoundError",
     "evalue": "[Errno 2] No such file or directory: 'server/accesslogs/today'",
     "output_type": "error",
     "traceback": [
      "\u001b[31m---------------------------------------------------------------------------\u001b[39m",
      "\u001b[31mFileNotFoundError\u001b[39m                         Traceback (most recent call last)",
      "\u001b[36mCell\u001b[39m\u001b[36m \u001b[39m\u001b[32mIn[6]\u001b[39m\u001b[32m, line 7\u001b[39m\n\u001b[32m      5\u001b[39m \u001b[38;5;28mprint\u001b[39m(os.chdir(\u001b[33m\"\u001b[39m\u001b[33mserver/accesslogs\u001b[39m\u001b[33m\"\u001b[39m)) \u001b[38;5;66;03m# Change current working directory\u001b[39;00m\n\u001b[32m      6\u001b[39m \u001b[38;5;28mprint\u001b[39m(os.system(\u001b[33m\"\u001b[39m\u001b[33mmkdir today\u001b[39m\u001b[33m\"\u001b[39m)) \u001b[38;5;66;03m# Run the command mkdir in the system shell\u001b[39;00m\n\u001b[32m----> \u001b[39m\u001b[32m7\u001b[39m \u001b[38;5;28mprint\u001b[39m(\u001b[43mos\u001b[49m\u001b[43m.\u001b[49m\u001b[43mrmdir\u001b[49m\u001b[43m(\u001b[49m\u001b[33;43m\"\u001b[39;49m\u001b[33;43mserver/accesslogs/today\u001b[39;49m\u001b[33;43m\"\u001b[39;49m\u001b[43m)\u001b[49m)\n",
      "\u001b[31mFileNotFoundError\u001b[39m: [Errno 2] No such file or directory: 'server/accesslogs/today'"
     ]
    }
   ],
   "source": [
    "import os\n",
    "print(os.getcwd()) # Return the current working directory\n",
    "print(os.system(\"mkdir server\"))\n",
    "print(os.system(\"mkdir server/accesslogs\"))\n",
    "print(os.chdir(\"server/accesslogs\")) # Change current working directory\n",
    "print(os.system(\"mkdir today\")) # Run the command mkdir in the system shell"
   ]
  },
  {
   "cell_type": "markdown",
   "id": "dfbdbcc9",
   "metadata": {},
   "source": [
    "Be sure to use the import os style instead of os import *. This will keep os.open() from shadowing the built-in open() function which operates much differently.\n",
    "\n",
    "The built-in dir() and help() functions are useful as interactive aids for working with large modules like os:"
   ]
  },
  {
   "cell_type": "code",
   "execution_count": 12,
   "id": "5c03e712",
   "metadata": {},
   "outputs": [
    {
     "name": "stdout",
     "output_type": "stream",
     "text": [
      "['CLD_CONTINUED', 'CLD_DUMPED', 'CLD_EXITED', 'CLD_KILLED', 'CLD_STOPPED', 'CLD_TRAPPED', 'CLONE_FILES', 'CLONE_FS', 'CLONE_NEWCGROUP', 'CLONE_NEWIPC', 'CLONE_NEWNET', 'CLONE_NEWNS', 'CLONE_NEWPID', 'CLONE_NEWTIME', 'CLONE_NEWUSER', 'CLONE_NEWUTS', 'CLONE_SIGHAND', 'CLONE_SYSVSEM', 'CLONE_THREAD', 'CLONE_VM', 'DirEntry', 'EFD_CLOEXEC', 'EFD_NONBLOCK', 'EFD_SEMAPHORE', 'EX_CANTCREAT', 'EX_CONFIG', 'EX_DATAERR', 'EX_IOERR', 'EX_NOHOST', 'EX_NOINPUT', 'EX_NOPERM', 'EX_NOUSER', 'EX_OK', 'EX_OSERR', 'EX_OSFILE', 'EX_PROTOCOL', 'EX_SOFTWARE', 'EX_TEMPFAIL', 'EX_UNAVAILABLE', 'EX_USAGE', 'F_LOCK', 'F_OK', 'F_TEST', 'F_TLOCK', 'F_ULOCK', 'GRND_NONBLOCK', 'GRND_RANDOM', 'GenericAlias', 'MFD_ALLOW_SEALING', 'MFD_CLOEXEC', 'MFD_HUGETLB', 'MFD_HUGE_16GB', 'MFD_HUGE_16MB', 'MFD_HUGE_1GB', 'MFD_HUGE_1MB', 'MFD_HUGE_256MB', 'MFD_HUGE_2GB', 'MFD_HUGE_2MB', 'MFD_HUGE_32MB', 'MFD_HUGE_512KB', 'MFD_HUGE_512MB', 'MFD_HUGE_64KB', 'MFD_HUGE_8MB', 'MFD_HUGE_MASK', 'MFD_HUGE_SHIFT', 'Mapping', 'MutableMapping', 'NGROUPS_MAX', 'O_ACCMODE', 'O_APPEND', 'O_ASYNC', 'O_CLOEXEC', 'O_CREAT', 'O_DIRECT', 'O_DIRECTORY', 'O_DSYNC', 'O_EXCL', 'O_FSYNC', 'O_LARGEFILE', 'O_NDELAY', 'O_NOATIME', 'O_NOCTTY', 'O_NOFOLLOW', 'O_NONBLOCK', 'O_PATH', 'O_RDONLY', 'O_RDWR', 'O_RSYNC', 'O_SYNC', 'O_TMPFILE', 'O_TRUNC', 'O_WRONLY', 'POSIX_FADV_DONTNEED', 'POSIX_FADV_NOREUSE', 'POSIX_FADV_NORMAL', 'POSIX_FADV_RANDOM', 'POSIX_FADV_SEQUENTIAL', 'POSIX_FADV_WILLNEED', 'POSIX_SPAWN_CLOSE', 'POSIX_SPAWN_DUP2', 'POSIX_SPAWN_OPEN', 'PRIO_PGRP', 'PRIO_PROCESS', 'PRIO_USER', 'P_ALL', 'P_NOWAIT', 'P_NOWAITO', 'P_PGID', 'P_PID', 'P_PIDFD', 'P_WAIT', 'PathLike', 'RTLD_DEEPBIND', 'RTLD_GLOBAL', 'RTLD_LAZY', 'RTLD_LOCAL', 'RTLD_NODELETE', 'RTLD_NOLOAD', 'RTLD_NOW', 'RWF_APPEND', 'RWF_DSYNC', 'RWF_HIPRI', 'RWF_NOWAIT', 'RWF_SYNC', 'R_OK', 'SCHED_BATCH', 'SCHED_FIFO', 'SCHED_IDLE', 'SCHED_OTHER', 'SCHED_RESET_ON_FORK', 'SCHED_RR', 'SEEK_CUR', 'SEEK_DATA', 'SEEK_END', 'SEEK_HOLE', 'SEEK_SET', 'SPLICE_F_MORE', 'SPLICE_F_MOVE', 'SPLICE_F_NONBLOCK', 'ST_APPEND', 'ST_MANDLOCK', 'ST_NOATIME', 'ST_NODEV', 'ST_NODIRATIME', 'ST_NOEXEC', 'ST_NOSUID', 'ST_RDONLY', 'ST_RELATIME', 'ST_SYNCHRONOUS', 'ST_WRITE', 'TMP_MAX', 'WCONTINUED', 'WCOREDUMP', 'WEXITED', 'WEXITSTATUS', 'WIFCONTINUED', 'WIFEXITED', 'WIFSIGNALED', 'WIFSTOPPED', 'WNOHANG', 'WNOWAIT', 'WSTOPPED', 'WSTOPSIG', 'WTERMSIG', 'WUNTRACED', 'W_OK', 'XATTR_CREATE', 'XATTR_REPLACE', 'XATTR_SIZE_MAX', 'X_OK', '_Environ', '__all__', '__builtins__', '__doc__', '__file__', '__loader__', '__name__', '__package__', '__spec__', '_check_methods', '_execvpe', '_exists', '_exit', '_fspath', '_fwalk', '_fwalk_close', '_fwalk_walk', '_fwalk_yield', '_get_exports_list', '_spawnvef', '_walk_symlinks_as_files', '_wrap_close', 'abc', 'abort', 'access', 'altsep', 'chdir', 'chmod', 'chown', 'chroot', 'close', 'closerange', 'confstr', 'confstr_names', 'copy_file_range', 'cpu_count', 'ctermid', 'curdir', 'defpath', 'device_encoding', 'devnull', 'dup', 'dup2', 'environ', 'environb', 'error', 'eventfd', 'eventfd_read', 'eventfd_write', 'execl', 'execle', 'execlp', 'execlpe', 'execv', 'execve', 'execvp', 'execvpe', 'extsep', 'fchdir', 'fchmod', 'fchown', 'fdatasync', 'fdopen', 'fork', 'forkpty', 'fpathconf', 'fsdecode', 'fsencode', 'fspath', 'fstat', 'fstatvfs', 'fsync', 'ftruncate', 'fwalk', 'get_blocking', 'get_exec_path', 'get_inheritable', 'get_terminal_size', 'getcwd', 'getcwdb', 'getegid', 'getenv', 'getenvb', 'geteuid', 'getgid', 'getgrouplist', 'getgroups', 'getloadavg', 'getlogin', 'getpgid', 'getpgrp', 'getpid', 'getppid', 'getpriority', 'getrandom', 'getresgid', 'getresuid', 'getsid', 'getuid', 'getxattr', 'initgroups', 'isatty', 'kill', 'killpg', 'lchown', 'linesep', 'link', 'listdir', 'listxattr', 'lockf', 'login_tty', 'lseek', 'lstat', 'major', 'makedev', 'makedirs', 'memfd_create', 'minor', 'mkdir', 'mkfifo', 'mknod', 'name', 'nice', 'open', 'openpty', 'pardir', 'path', 'pathconf', 'pathconf_names', 'pathsep', 'pidfd_open', 'pipe', 'pipe2', 'popen', 'posix_fadvise', 'posix_fallocate', 'posix_spawn', 'posix_spawnp', 'pread', 'preadv', 'putenv', 'pwrite', 'pwritev', 'read', 'readlink', 'readv', 'register_at_fork', 'remove', 'removedirs', 'removexattr', 'rename', 'renames', 'replace', 'rmdir', 'scandir', 'sched_get_priority_max', 'sched_get_priority_min', 'sched_getaffinity', 'sched_getparam', 'sched_getscheduler', 'sched_param', 'sched_rr_get_interval', 'sched_setaffinity', 'sched_setparam', 'sched_setscheduler', 'sched_yield', 'sendfile', 'sep', 'set_blocking', 'set_inheritable', 'setegid', 'seteuid', 'setgid', 'setgroups', 'setns', 'setpgid', 'setpgrp', 'setpriority', 'setregid', 'setresgid', 'setresuid', 'setreuid', 'setsid', 'setuid', 'setxattr', 'spawnl', 'spawnle', 'spawnlp', 'spawnlpe', 'spawnv', 'spawnve', 'spawnvp', 'spawnvpe', 'splice', 'st', 'stat', 'stat_result', 'statvfs', 'statvfs_result', 'strerror', 'supports_bytes_environ', 'supports_dir_fd', 'supports_effective_ids', 'supports_fd', 'supports_follow_symlinks', 'symlink', 'sync', 'sys', 'sysconf', 'sysconf_names', 'system', 'tcgetpgrp', 'tcsetpgrp', 'terminal_size', 'times', 'times_result', 'truncate', 'ttyname', 'umask', 'uname', 'uname_result', 'unlink', 'unsetenv', 'unshare', 'urandom', 'utime', 'wait', 'wait3', 'wait4', 'waitid', 'waitid_result', 'waitpid', 'waitstatus_to_exitcode', 'walk', 'write', 'writev']\n"
     ]
    }
   ],
   "source": [
    "import os\n",
    "\n",
    "from IPython.display import Math\n",
    "# returns a list of all module functions\n",
    "print(dir(os))\n",
    "# returns an extensive manual page created from the module's docstrings\n",
    "# print(help(os))\n",
    "\n",
    "#help(Math)"
   ]
  },
  {
   "cell_type": "code",
   "execution_count": null,
   "id": "2f2173ab",
   "metadata": {},
   "outputs": [],
   "source": [
    "# import shutil\n",
    "# shutil.copyfile(\"data.db\", \"archive.db\")\n",
    "# shutil.move(\"/build/executables\", \"installdir\")"
   ]
  },
  {
   "cell_type": "markdown",
   "id": "2e6d9545",
   "metadata": {},
   "source": [
    "10.2. File Wildcards\n",
    "\n",
    "The glob module provides a function for making file lists from directory wildcard searches:\n"
   ]
  },
  {
   "cell_type": "code",
   "execution_count": 22,
   "id": "307c4185",
   "metadata": {},
   "outputs": [
    {
     "name": "stdout",
     "output_type": "stream",
     "text": [
      "[]\n"
     ]
    }
   ],
   "source": [
    "import glob\n",
    "from typing import Any, List\n",
    "lists: List[Any] = glob.glob(\"*.*\", dir_fd=\"../\")\n",
    "print(lists)"
   ]
  },
  {
   "cell_type": "markdown",
   "id": "cbe5c800",
   "metadata": {},
   "source": [
    "10.3. Command Line Arguments\n",
    "\n",
    "Common utility scripts often need to process command line arguments. Theses argumnets are stored in the sys module's argv attribute as a list. For instance, let's take the following demo.py file."
   ]
  },
  {
   "cell_type": "code",
   "execution_count": 23,
   "id": "6dd8bfc0",
   "metadata": {},
   "outputs": [
    {
     "name": "stdout",
     "output_type": "stream",
     "text": [
      "['/home/jik/projects/python/tutorial/venv/lib/python3.12/site-packages/ipykernel_launcher.py', '--f=/run/user/1000/jupyter/runtime/kernel-v3f07334edf7edb708c4f5f59c98e800f3205ed129.json']\n"
     ]
    }
   ],
   "source": [
    "import sys\n",
    "print(sys.argv)"
   ]
  },
  {
   "cell_type": "markdown",
   "id": "931e29ae",
   "metadata": {},
   "source": [
    "Here is the output from running python demo.py onw two three at the command line:\n",
    "\n",
    "```py\n",
    "[\"demo.py\", \"one\", \"two\", \"three\"]\n",
    "```"
   ]
  },
  {
   "cell_type": "markdown",
   "id": "f00ed683",
   "metadata": {},
   "source": [
    "The argparse module provides a more shphisticated mechanism to process command line arguments. The following script extracts one or more filenames and an optional number of lines to be displayed:\n"
   ]
  },
  {
   "cell_type": "code",
   "execution_count": null,
   "id": "893ebe06",
   "metadata": {},
   "outputs": [],
   "source": [
    "import argparse\n",
    "\n",
    "parser = argparse.ArgumentParser(\n",
    "    prog=\"top\",\n",
    "    description=\"Show top lines from each file\"\n",
    ")\n",
    "parser.add_argument(\"filenames\", nargs=\"+\")\n",
    "parser.add_argument(\"-l\", \"--lines\", type=int, default=10)\n",
    "args = parser.parse_args()\n",
    "print(args)"
   ]
  },
  {
   "cell_type": "markdown",
   "id": "4b191c46",
   "metadata": {},
   "source": [
    "When run at the command line with python top.py --lines=5 alpha.txt beta.txt, the script sets args.lines to 5  and args.filenames to [\"alpha.txt\", \"beta.txt\"]."
   ]
  },
  {
   "cell_type": "markdown",
   "id": "a0b9a698",
   "metadata": {},
   "source": [
    "10.4. Error Output Redirection and Program Termination\n",
    "\n",
    "The sys module also has attributes for stdin, stdout, and stderr. The latter is useful for emitting warnings and error messages to make them visible even when stdout has been redirected:"
   ]
  },
  {
   "cell_type": "code",
   "execution_count": null,
   "id": "af5ce69d",
   "metadata": {},
   "outputs": [
    {
     "ename": "SystemExit",
     "evalue": "",
     "output_type": "error",
     "traceback": [
      "An exception has occurred, use %tb to see the full traceback.\n",
      "\u001b[31mSystemExit\u001b[39m\n"
     ]
    },
    {
     "name": "stderr",
     "output_type": "stream",
     "text": [
      "/home/jik/projects/python/tutorial/venv/lib/python3.12/site-packages/IPython/core/interactiveshell.py:3707: UserWarning: To exit: use 'exit', 'quit', or Ctrl-D.\n",
      "  warn(\"To exit: use 'exit', 'quit', or Ctrl-D.\", stacklevel=1)\n"
     ]
    }
   ],
   "source": [
    "import sys\n",
    "sys.stderr.writelines([\"Warning, log file not found starting a new one\"])\n",
    "result: str = sys.stdin.readline()\n",
    "sys.stdout.write(result)"
   ]
  },
  {
   "cell_type": "markdown",
   "id": "849ab592",
   "metadata": {},
   "source": [
    "The most direct way to terminate a script is to use sys.exit()"
   ]
  },
  {
   "cell_type": "markdown",
   "id": "c714ad68",
   "metadata": {},
   "source": [
    "10.5. String Pattern Matching\n",
    "\n",
    "The re module provides regular expression tools for advanced string processing. For complex matching and manipulation, regular expressions offer succinct, optimzed solutions: "
   ]
  },
  {
   "cell_type": "code",
   "execution_count": null,
   "id": "641ed6d7",
   "metadata": {},
   "outputs": [],
   "source": [
    "import re\n",
    "re.findall(r'\\bf[a-z]*', 'which foot or hand fell fastest')\n",
    "\n",
    "re.sub(r'(\\b[a-z]+) \\1', r'\\1', 'cat in the the hat')"
   ]
  }
 ],
 "metadata": {
  "kernelspec": {
   "display_name": "venv",
   "language": "python",
   "name": "python3"
  },
  "language_info": {
   "codemirror_mode": {
    "name": "ipython",
    "version": 3
   },
   "file_extension": ".py",
   "mimetype": "text/x-python",
   "name": "python",
   "nbconvert_exporter": "python",
   "pygments_lexer": "ipython3",
   "version": "3.12.4"
  }
 },
 "nbformat": 4,
 "nbformat_minor": 5
}
