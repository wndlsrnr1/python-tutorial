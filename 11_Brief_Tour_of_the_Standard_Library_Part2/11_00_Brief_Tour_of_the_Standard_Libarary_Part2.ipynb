{
 "cells": [
  {
   "cell_type": "markdown",
   "id": "eb517da5",
   "metadata": {},
   "source": [
    "11. Brief Tour of the Standard Library - Part2\n",
    "\n",
    "This second tour covers more advanced modules that support professinal programming needs. These modules rarely occur in small script."
   ]
  }
 ],
 "metadata": {
  "language_info": {
   "name": "python"
  }
 },
 "nbformat": 4,
 "nbformat_minor": 5
}
