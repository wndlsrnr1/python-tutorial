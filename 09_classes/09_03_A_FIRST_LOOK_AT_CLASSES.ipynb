{
 "cells": [
  {
   "cell_type": "markdown",
   "id": "4fc07674",
   "metadata": {},
   "source": [
    "9.3\n",
    "\n",
    "Classes introduce a little bit of new syntax, three new object types, and some new semantics.\n",
    "\n",
    "9.3.1. Class Definition Syntax\n",
    "\n",
    "The simplest form of class definition looks like this:\n",
    "\n",
    "```py\n",
    "class ClassName:\n",
    "    <statement-1>\n",
    "    .\n",
    "    .\n",
    "    .\n",
    "    <statement-N>\n",
    "```\n",
    "\n",
    "Class definitions, like function definitions (def statements) must be executed before they have any effect. (You could conceivably place a class definition in a branch of an if statement, or inside a function)\n",
    "\n",
    "In pratice, the statements inside a class definition will usually be function definition, but other statements are allowed, and sometimes useful - we'll com back to this later, The function definitions inside a class normally have a peculiar form of argument list, dictated by the calling conventions for methods, - again, this is ex-palined later\n",
    "\n",
    "\n",
    "When a class definition is entered, a new namespace is created, and used as the local scope -- thus, all assignments to local variables go into this new namespace, in particular, function definitions bind the name of the new function here"
   ]
  },
  {
   "cell_type": "code",
   "execution_count": null,
   "id": "88e6edc9",
   "metadata": {},
   "outputs": [],
   "source": [
    "# \"function definitions bind the name of the new function here\"\n",
    "\n",
    "class Myclass:\n",
    "    def my_function(self, arg): \n",
    "        pass\n",
    "\n",
    "# --> the definitions of new function in class is binded to class. \n",
    "\n",
    "no_ops = Myclass().my_function(\"hi\")"
   ]
  },
  {
   "cell_type": "markdown",
   "id": "300a843a",
   "metadata": {},
   "source": [
    "When a class definition is left normally (via the end) a class object is created, This is basically a wrapper around the contents of the namespace created by the class definition; We'll learn more about class objects in the next section. The original local scope (the one in effect just before the class definition was entered) is reinstated, and the class object is bound here to the class name given in the class given in the class definition header (ClassName in the example)\n",
    "\n",
    "jargon: \n",
    "\n",
    "class definition header"
   ]
  },
  {
   "cell_type": "markdown",
   "id": "ed29aec4",
   "metadata": {},
   "source": [
    "9.3. 2. Class Objects\n",
    "\n",
    "Class objects support two kinds of operations: attribute references and instantiation.\n",
    "\n",
    "Attribute references use the standard syntax used for all attribute references in Python: obj.name. Valid attribute names are all the names that were in the class's namespace when the class object was created. So, if the class definition looked like this:"
   ]
  },
  {
   "cell_type": "code",
   "execution_count": 9,
   "id": "054adacb",
   "metadata": {},
   "outputs": [
    {
     "name": "stdout",
     "output_type": "stream",
     "text": [
      "12345\n",
      "<function Myclass.f at 0x7f4bed7ff240>\n",
      "John\n",
      "12345\n",
      "<bound method Myclass.f of <__main__.Myclass object at 0x7f4bedc9a0d0>>\n",
      "JIK\n",
      "A simple example class\n"
     ]
    }
   ],
   "source": [
    "class Myclass:\n",
    "    \"\"\"A simple example class\"\"\"\n",
    "    i = 12345\n",
    "\n",
    "    def __init__(self, name):\n",
    "        self.name = name\n",
    "\n",
    "    def f(self):\n",
    "        return self.name\n",
    "\n",
    "print(Myclass.i)\n",
    "print(Myclass.f)\n",
    "your_obj = Myclass(\"John\")\n",
    "print(Myclass.f(your_obj))\n",
    "\n",
    "\n",
    "my_obj = Myclass(\"JIK\")\n",
    "print(my_obj.i)\n",
    "print(my_obj.f)\n",
    "print(my_obj.f())\n",
    "\n",
    "print(Myclass.__doc__)"
   ]
  },
  {
   "cell_type": "markdown",
   "id": "a4fb9db5",
   "metadata": {},
   "source": [
    "then MyClass.i and MyClass.f are valid attribute references, returning an integer and a function object, returning an integer and a function object, respectively. Class attributes can also be assigned to, so you can change the value of MyClass.i by assignmnent. __doc__ is also a valid attribute, returning the docstring belonging to the class: \"A Simple example class\".\n",
    "\n",
    "Class instantiation uses function notation, Just pretend that the class object is a parameterless function that returns a new instance of the class. For example (assuming the above class):\n",
    "\n",
    "```py\n",
    "\n",
    "x = MyClass()\n",
    "\n",
    "```\n",
    "\n"
   ]
  },
  {
   "cell_type": "markdown",
   "id": "1e89a622",
   "metadata": {},
   "source": [
    "create a new instance of the class and assigns this object to the local variable x.\n",
    "\n",
    "The instantiation operation (\"calling a class object\") creates an empty object. Many classes like to create objects with instances customized to a specific initial state. Therefore a class may define a special method named __init__(), like this:"
   ]
  },
  {
   "cell_type": "code",
   "execution_count": null,
   "id": "9a1e689a",
   "metadata": {},
   "outputs": [],
   "source": [
    "class Complex:\n",
    "    def __init__(self, realpart, imagpart):\n",
    "        self.r = realpart\n",
    "        self.i = imagpart\n",
    "\n",
    "x = Complex(3.0, -4.5)\n",
    "print(x.r, x.i)"
   ]
  },
  {
   "cell_type": "markdown",
   "id": "fcfc0ee0",
   "metadata": {},
   "source": [
    "When a class defines a __init__() method, class instantiation automatically invokes __init__() for the newly created class instance. So in this example, a new, initialized instance can be obtained by:\n",
    "\n",
    "```py\n",
    "x = Myclass()\n",
    "```\n",
    "\n",
    "Of course, the __init__() method may have arguments for greater flexibility. In that case, arguments given to the class instantication operator are passed on to __init__(). For example,"
   ]
  },
  {
   "cell_type": "code",
   "execution_count": null,
   "id": "e95f9344",
   "metadata": {},
   "outputs": [],
   "source": [
    "from dataclasses import dataclass\n",
    "\n",
    "\n",
    "class Complex:\n",
    "    def __init__(self, realpart, imagpart):\n",
    "        self.r = realpart\n",
    "        self.i = imagpart\n",
    "\n",
    "@dataclass\n",
    "class ComplexV2:\n",
    "    r: float\n",
    "    i: float\n",
    "\n",
    "    def __init__(self, realpart, imagpart):\n",
    "        self.r = realpart\n",
    "        self.i = imagpart\n",
    "    \n",
    "    \n",
    "\n",
    "x = Complex(3.0, -4.5)\n",
    "\n",
    "x = ComplexV2(3.0, -4.5)\n",
    "print(x.r, x.i)\n",
    "\n",
    "\n"
   ]
  },
  {
   "cell_type": "code",
   "execution_count": null,
   "id": "600af7c7",
   "metadata": {},
   "outputs": [],
   "source": [
    "\n"
   ]
  }
 ],
 "metadata": {
  "kernelspec": {
   "display_name": "venv",
   "language": "python",
   "name": "python3"
  },
  "language_info": {
   "codemirror_mode": {
    "name": "ipython",
    "version": 3
   },
   "file_extension": ".py",
   "mimetype": "text/x-python",
   "name": "python",
   "nbconvert_exporter": "python",
   "pygments_lexer": "ipython3",
   "version": "3.11.13"
  }
 },
 "nbformat": 4,
 "nbformat_minor": 5
}
