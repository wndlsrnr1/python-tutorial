{
 "cells": [
  {
   "cell_type": "markdown",
   "id": "4fc07674",
   "metadata": {},
   "source": [
    "9.3\n",
    "\n",
    "Classes introduce a little bit of new syntax, three new object types, and some new semantics.\n",
    "\n",
    "9.3.1. Class Definition Syntax\n",
    "\n",
    "The simplest form of class definition looks like this:\n",
    "\n",
    "```py\n",
    "class ClassName:\n",
    "    <statement-1>\n",
    "    .\n",
    "    .\n",
    "    .\n",
    "    <statement-N>\n",
    "```\n",
    "\n",
    "Class definitions, like function definitions (def statements) must be executed before they have any effect. (You could conceivably place a class definition in a branch of an if statement, or inside a function)\n",
    "\n",
    "In pratice, the statements inside a class definition will usually be function definition, but other statements are allowed, and sometimes useful - we'll com back to this later, The function definitions inside a class normally have a peculiar form of argument list, dictated by the calling conventions for methods, - again, this is ex-palined later\n",
    "\n",
    "\n",
    "When a class definition is entered, a new namespace is created, and used as the local scope -- thus, all assignments to local variables go into this new namespace, in particular, function definitions bind the name of the new function here"
   ]
  },
  {
   "cell_type": "code",
   "execution_count": 11,
   "id": "88e6edc9",
   "metadata": {},
   "outputs": [],
   "source": [
    "# \"function definitions bind the name of the new function here\"\n",
    "\n",
    "class Myclass:\n",
    "    def my_function(self, arg): \n",
    "        pass\n",
    "\n",
    "# --> the definitions of new function in class is binded to class. \n",
    "\n",
    "no_ops = Myclass().my_function(\"hi\")"
   ]
  },
  {
   "cell_type": "markdown",
   "id": "300a843a",
   "metadata": {},
   "source": [
    "When a class definition is left normally (via the end) a class object is created, This is basically a wrapper around the contents of the namespace created by the class definition; We'll learn more about class objects in the next section. The original local scope (the one in effect just before the class definition was entered) is reinstated, and the class object is bound here to the class name given in the class given in the class definition header (ClassName in the example)\n",
    "\n",
    "jargon: \n",
    "\n",
    "class definition header"
   ]
  },
  {
   "cell_type": "markdown",
   "id": "ed29aec4",
   "metadata": {},
   "source": [
    "9.3. 2. Class Objects\n",
    "\n",
    "Class objects support two kinds of operations: attribute references and instantiation.\n",
    "\n",
    "Attribute references use the standard syntax used for all attribute references in Python: obj.name. Valid attribute names are all the names that were in the class's namespace when the class object was created. So, if the class definition looked like this:"
   ]
  },
  {
   "cell_type": "code",
   "execution_count": 12,
   "id": "054adacb",
   "metadata": {},
   "outputs": [
    {
     "name": "stdout",
     "output_type": "stream",
     "text": [
      "12345\n",
      "<function Myclass.f at 0x787ec8382fc0>\n",
      "John\n",
      "12345\n",
      "<bound method Myclass.f of <__main__.Myclass object at 0x787ec83aed50>>\n",
      "JIK\n",
      "A simple example class\n"
     ]
    }
   ],
   "source": [
    "class Myclass:\n",
    "    \"\"\"A simple example class\"\"\"\n",
    "    i = 12345\n",
    "\n",
    "    def __init__(self, name):\n",
    "        self.name = name\n",
    "\n",
    "    def f(self):\n",
    "        return self.name\n",
    "\n",
    "print(Myclass.i)\n",
    "print(Myclass.f)\n",
    "your_obj = Myclass(\"John\")\n",
    "print(Myclass.f(your_obj))\n",
    "\n",
    "\n",
    "my_obj = Myclass(\"JIK\")\n",
    "print(my_obj.i)\n",
    "print(my_obj.f)\n",
    "print(my_obj.f())\n",
    "\n",
    "print(Myclass.__doc__)"
   ]
  },
  {
   "cell_type": "markdown",
   "id": "a4fb9db5",
   "metadata": {},
   "source": [
    "then MyClass.i and MyClass.f are valid attribute references, returning an integer and a function object, returning an integer and a function object, respectively. Class attributes can also be assigned to, so you can change the value of MyClass.i by assignmnent. __doc__ is also a valid attribute, returning the docstring belonging to the class: \"A Simple example class\".\n",
    "\n",
    "Class instantiation uses function notation, Just pretend that the class object is a parameterless function that returns a new instance of the class. For example (assuming the above class):\n",
    "\n",
    "```py\n",
    "\n",
    "x = MyClass()\n",
    "\n",
    "```\n",
    "\n"
   ]
  },
  {
   "cell_type": "markdown",
   "id": "1e89a622",
   "metadata": {},
   "source": [
    "create a new instance of the class and assigns this object to the local variable x.\n",
    "\n",
    "The instantiation operation (\"calling a class object\") creates an empty object. Many classes like to create objects with instances customized to a specific initial state. Therefore a class may define a special method named __init__(), like this:"
   ]
  },
  {
   "cell_type": "code",
   "execution_count": 13,
   "id": "9a1e689a",
   "metadata": {},
   "outputs": [
    {
     "name": "stdout",
     "output_type": "stream",
     "text": [
      "3.0 -4.5\n"
     ]
    }
   ],
   "source": [
    "class Complex:\n",
    "    def __init__(self, realpart, imagpart):\n",
    "        self.r = realpart\n",
    "        self.i = imagpart\n",
    "\n",
    "x = Complex(3.0, -4.5)\n",
    "print(x.r, x.i)"
   ]
  },
  {
   "cell_type": "markdown",
   "id": "fcfc0ee0",
   "metadata": {},
   "source": [
    "When a class defines a __init__() method, class instantiation automatically invokes __init__() for the newly created class instance. So in this example, a new, initialized instance can be obtained by:\n",
    "\n",
    "```py\n",
    "x = Myclass()\n",
    "```\n",
    "\n",
    "Of course, the __init__() method may have arguments for greater flexibility. In that case, arguments given to the class instantication operator are passed on to __init__(). For example,"
   ]
  },
  {
   "cell_type": "code",
   "execution_count": 14,
   "id": "e95f9344",
   "metadata": {},
   "outputs": [
    {
     "name": "stdout",
     "output_type": "stream",
     "text": [
      "3.0 -4.5\n"
     ]
    }
   ],
   "source": [
    "from dataclasses import dataclass\n",
    "\n",
    "\n",
    "class Complex:\n",
    "    def __init__(self, realpart, imagpart):\n",
    "        self.r = realpart\n",
    "        self.i = imagpart\n",
    "\n",
    "@dataclass\n",
    "class ComplexV2:\n",
    "    r: float\n",
    "    i: float\n",
    "\n",
    "    def __init__(self, realpart, imagpart):\n",
    "        self.r = realpart\n",
    "        self.i = imagpart\n",
    "    \n",
    "    \n",
    "\n",
    "x = Complex(3.0, -4.5)\n",
    "\n",
    "x = ComplexV2(3.0, -4.5)\n",
    "print(x.r, x.i)\n",
    "\n",
    "\n"
   ]
  },
  {
   "cell_type": "markdown",
   "id": "8aece3ae",
   "metadata": {},
   "source": [
    "9.3.3 Instance Objects\n",
    "\n",
    "Now what can we do with instance objects? The only operations understood by instance objects are attribute references. There are two kinds of valid attribute names: data attributes and methods.\n",
    "\n",
    "data attributes crrespond to \"instance variables\" in Smalltalk, and to \"data members\" in C++. Data attributes need not be decalred;  like local variables, they spring into existence when they are first assigned to. For example, if x is the instance of MyClass created above, the following peice of code will print the value 16, without leaving a trace:"
   ]
  },
  {
   "cell_type": "code",
   "execution_count": 15,
   "id": "c57b1da2",
   "metadata": {},
   "outputs": [
    {
     "name": "stdout",
     "output_type": "stream",
     "text": [
      "16\n"
     ]
    }
   ],
   "source": [
    "class MyClass:\n",
    "    pass\n",
    "\n",
    "x = MyClass()\n",
    "\n",
    "x.counter = 1\n",
    "while x.counter < 10:\n",
    "    x.counter = x.counter * 2\n",
    "print(x.counter)\n",
    "del x.counter"
   ]
  },
  {
   "cell_type": "markdown",
   "id": "be7c828b",
   "metadata": {},
   "source": [
    "The other kind of instance attribute reference is a method. A method is a function that \"belongs to\" an object.\n",
    "\n",
    "Valid method names of an instance object depend on its class. By definition, all attributes of a class that are function objects define coressponding methods of its instances. so in our example, x.f is a valid method reference, since MyClass.f is a function, but x.i is not, since MyClass.i is not. But x.f is not the same thing as MyClass.f -- it is method object, not a function object"
   ]
  },
  {
   "cell_type": "code",
   "execution_count": 16,
   "id": "46524357",
   "metadata": {},
   "outputs": [
    {
     "name": "stdout",
     "output_type": "stream",
     "text": [
      "<class 'function'>\n",
      "<class 'method'>\n"
     ]
    }
   ],
   "source": [
    "# function object: that are not binded self\n",
    "class MyClass:\n",
    "    def f(self):\n",
    "        return \"hello world\"\n",
    "\n",
    "MyClass.f # function\n",
    "\n",
    "print(type(MyClass.f))\n",
    "\n",
    "# method object: that are binded self\n",
    "x = MyClass()\n",
    "x.f\n",
    "\n",
    "print(type(x.f)) # method"
   ]
  },
  {
   "cell_type": "markdown",
   "id": "f5cce4fa",
   "metadata": {},
   "source": [
    "9.3.4 Method Objects\n",
    "\n",
    "Usually, a method is called right after it is bound:\n",
    "```py\n",
    "x.f()\n",
    "```\n",
    "\n",
    "if x = MyClass(), as above, this will return the string \"hello world\". However, it is not necessary to call a method right away:x.f is a method object, and can be stored away and called at a later time. For example:\n",
    "\n"
   ]
  },
  {
   "cell_type": "code",
   "execution_count": null,
   "id": "37fee595",
   "metadata": {},
   "outputs": [],
   "source": [
    "\n",
    "class MyClass:\n",
    "    def f(self):\n",
    "        return \"hello world\"\n",
    "\n",
    "xf = x.f\n",
    "# while True:\n",
    "#    print(xf())"
   ]
  },
  {
   "cell_type": "markdown",
   "id": "fd7cd24b",
   "metadata": {},
   "source": [
    "will continue to print hello world until the end of time.\n",
    "\n",
    "What exactly happens when a method is called? You may have noticed that x.f() was called without an argument above, even though the function definition for f() specified an argument. What happened to the argument? Surely Python raises an exception when a function that requires an argument is called without any — even if the argument isn’t actually used…\n",
    "\n",
    "Actually, you may have guessed the answer: the special thing about methods is that the instance object is passed as the first argument of the function. In our example, the call x.f() is exactly equivalent to MyClass.f(x). In general, calling a method with a list of n arguments is equivalent to calling the corresponding function with an argument list that is created by inserting the method’s instance object before the first argument.\n",
    "\n",
    "In general, methods work as follows. When a non-data attribute of an instance is referenced, the instance’s class is searched. If the name denotes a valid class attribute that is a function object, references to both the instance object and the function object are packed into a method object. When the method object is called with an argument list, a new argument is constructed from the the instance object and the argument list, and the function object is called with this new argument list.\n",
    "\n",
    "* denotes: indicate\n",
    "\n"
   ]
  },
  {
   "cell_type": "markdown",
   "id": "a494db0a",
   "metadata": {},
   "source": [
    "9.3.5 Class and Instance Variables\n",
    "\n",
    "Generally speaking, instance variables are for data unique to each instance and class variables are for attributes and methods shared by all instances of the class"
   ]
  },
  {
   "cell_type": "code",
   "execution_count": null,
   "id": "e65c3cff",
   "metadata": {},
   "outputs": [
    {
     "name": "stdout",
     "output_type": "stream",
     "text": [
      "canine\n",
      "canine\n",
      "Fido\n",
      "Buddy\n"
     ]
    }
   ],
   "source": [
    "class Dog:\n",
    "\n",
    "    kind = 'canine' # class variable shared by all instances\n",
    "\n",
    "    def __init__(self, name):\n",
    "        self.name = name # instance variable unique to each instance\n",
    "\n",
    "\n",
    "\n",
    "d = Dog(\"Fido\")\n",
    "e = Dog(\"Buddy\")\n",
    "print(d.kind)\n",
    "print(e.kind)\n",
    "\n",
    "print(d.name)\n",
    "print(e.name)\n"
   ]
  },
  {
   "cell_type": "markdown",
   "id": "d31ce872",
   "metadata": {},
   "source": []
  },
  {
   "cell_type": "markdown",
   "id": "ce29462f",
   "metadata": {},
   "source": [
    "As discussed in A Word About Names and Objects, shared data can have possibly surprising effects with involving mutable objects such as lists and dictionaries. For example, the tricks list in the following code should not be used as a class variable because just a single list would be shared by all Dog instances:"
   ]
  },
  {
   "cell_type": "code",
   "execution_count": null,
   "id": "c1216187",
   "metadata": {},
   "outputs": [
    {
     "name": "stdout",
     "output_type": "stream",
     "text": [
      "['roll over', 'play dead']\n",
      "['roll over', 'play dead']\n"
     ]
    }
   ],
   "source": [
    "class Dog:\n",
    "    tricks = [] # mistaken use of a class variable\n",
    "\n",
    "    def __init__(self, name):\n",
    "        self.name = name\n",
    "\n",
    "    def add_trick(self, trick):\n",
    "        self.tricks.append(trick)\n",
    "\n",
    "d = Dog(\"Fido\")\n",
    "e = Dog(\"Buddy\")\n",
    "d.add_trick(\"roll over\")\n",
    "e.add_trick(\"play dead\")\n",
    "print(d.tricks)\n",
    "print(e.tricks)\n"
   ]
  },
  {
   "cell_type": "markdown",
   "id": "18fb8393",
   "metadata": {},
   "source": [
    "9.4. Random Remarks\n",
    "\n",
    "If the same attribute name occurs in both an instance and in a class, then attribute lookup prioritizes the instance:"
   ]
  },
  {
   "cell_type": "code",
   "execution_count": 20,
   "id": "d8a209ed",
   "metadata": {},
   "outputs": [
    {
     "name": "stdout",
     "output_type": "stream",
     "text": [
      "storage west\n",
      "storage east\n",
      "storage west\n"
     ]
    }
   ],
   "source": [
    "class Warehouse:\n",
    "    purpose = \"storage\"\n",
    "    region = \"west\"\n",
    "\n",
    "w1 = Warehouse()\n",
    "print(w1.purpose, w1.region)\n",
    "\n",
    "w2 = Warehouse()\n",
    "w2.region = \"east\"\n",
    "print(w2.purpose, w2.region)\n",
    "\n",
    "\n",
    "print(w1.purpose, w1.region)"
   ]
  },
  {
   "cell_type": "markdown",
   "id": "577462b4",
   "metadata": {},
   "source": [
    "Data attributes may be referenced by methods as well as by ordinary users (\"client\") of an object. In other words, classes are not usable to implement pure abstract data types. In fact, nothing in Python makes it possible to enforce data hiding -- it is all based upon convention. (On the other hand, the Python implementation, written in C, can completely hide implementation details and control access to an object if necessary; this can be used by extensions to Python written in C.) (cpython)\n",
    "\n",
    "pure abstract data type, ADT: 어떤 연산을 제공하는 지만 공개하고, 어떻게 저장/구현 되는가를 완전히 숨기는 자료형\n",
    "\n",
    "Invariants: conditions or rules that must always be true for an object\n",
    "(객체가 항상 유지해야 하는 조건이나 규칙)\n",
    "stamping on: directly modifying or overwriting something\n",
    "(직접 수정하거나 덮어쓰는 행위)\n",
    "\n",
    "Clients should use data attributes with care - client may mess up invariants maintained by the methods by stamping on their data attributes. Note that clients may add data attributes of their own to an instance object without affecting the validity of the methods, as long as name conflicts are avoided -- again, a naming convention can save alot of headaches here."
   ]
  },
  {
   "cell_type": "code",
   "execution_count": null,
   "id": "801c610d",
   "metadata": {},
   "outputs": [],
   "source": [
    "class Person:\n",
    "    def __init__(self, name):\n",
    "        self.name = name\n",
    "    \n",
    "    def greet(self):\n",
    "        return f\"Hello, {self.name}\"\n",
    "\n",
    "person = Person(\"John\")\n",
    "person.age = 25\n",
    "person.city = \"Seoul\"\n",
    "\n",
    "print(person.greet()) \n"
   ]
  },
  {
   "cell_type": "markdown",
   "id": "7250bef1",
   "metadata": {},
   "source": [
    "There is no shorthand for referencing data attributes (or other methods!) from within methods. I find that this actually increases the readability of methods: there is no chance of confusing local variables and instance variables when glancing through a method."
   ]
  },
  {
   "cell_type": "code",
   "execution_count": null,
   "id": "e2d3fe59",
   "metadata": {},
   "outputs": [],
   "source": [
    "# There is no shorthand for referencing data attributes (or other methods!) \n",
    "# from within methods.\n",
    "\n",
    "class Person:\n",
    "    def __init__(self, name):\n",
    "        self.name = name\n",
    "    \n",
    "    def greet(self):\n",
    "        # impossible to access data by just \"name\"\n",
    "        # f\"Hello, {name}\" -> impossible\n",
    "        return f\"Hello, {self.name}\"\n",
    "\n",
    "person = Person(\"John\")\n",
    "print(person.greet())"
   ]
  },
  {
   "cell_type": "markdown",
   "id": "2b94c3cf",
   "metadata": {},
   "source": [
    "Class browser program: 클래스와 객체 구조를 시각적으로 탐색하고 관리할 수 있는 프로그램\n",
    "\n",
    "Often, the first argument of a method is called self, This is nothing more than a convention: the name self has absolutely no sepcial meaning to Python. Note, howeber, that by not following the convention your code may be less readable to other Python programmers, and it is also conceivable that a class browser program might be written that relies upon such a convention.\n",
    "\n",
    "Any function object that is a class attribute defines a method for instances of that class. It is not necessary that the function definition is textually enclosed in the class definition: assigning a function object to a local variable in the class is also ok.\n",
    "For example:\n"
   ]
  },
  {
   "cell_type": "code",
   "execution_count": null,
   "id": "b5ff1e3b",
   "metadata": {},
   "outputs": [
    {
     "name": "stdout",
     "output_type": "stream",
     "text": [
      "3\n",
      "3\n",
      "Hello, world\n",
      "Hello, world\n"
     ]
    }
   ],
   "source": [
    "# Function defined outside the class\n",
    "def f1(self, x, y):\n",
    "    return min(x, x+y)\n",
    "\n",
    "class C:\n",
    "    f1 = f1\n",
    "\n",
    "    def g(self):\n",
    "        return \"Hello, world\"\n",
    "    \n",
    "    h = g\n",
    "\n",
    "c = C()\n",
    "print(f1(c, 3, 4))\n",
    "print(c.f1(3, 4))\n",
    "print(c.g())\n",
    "print(c.h())"
   ]
  },
  {
   "cell_type": "markdown",
   "id": "6520da7f",
   "metadata": {},
   "source": [
    "Now f, g and h are all attributes of class C that refer to function objects, and consequently they are all methods of instances of C -- h being exactly equivalent to g. Note that this practice usually only serves to confuse the reader of a program.\n",
    "\n",
    "Methods may call other methods by using method attributes of the self argument:"
   ]
  },
  {
   "cell_type": "code",
   "execution_count": 4,
   "id": "b44d3e3c",
   "metadata": {},
   "outputs": [
    {
     "name": "stdout",
     "output_type": "stream",
     "text": [
      "[5, 5]\n"
     ]
    }
   ],
   "source": [
    "class Bag:\n",
    "    def __init__(self):\n",
    "        self.data = []\n",
    "    \n",
    "    def add(self, x):\n",
    "        self.data.append(x)\n",
    "    \n",
    "    def addtwice(self, x):\n",
    "        self.add(x)\n",
    "        self.add(x)\n",
    "\n",
    "bag = Bag()\n",
    "bag.addtwice(5)\n",
    "print(bag.data)\n"
   ]
  },
  {
   "cell_type": "markdown",
   "id": "a39eac5d",
   "metadata": {},
   "source": [
    "Methods may reference global names in the same way as ordinary functions. The global scope assiciated with a method is the module containing its definition. (A class is never used as a global scope.)"
   ]
  },
  {
   "cell_type": "code",
   "execution_count": null,
   "id": "074a1d50",
   "metadata": {},
   "outputs": [
    {
     "name": "stdout",
     "output_type": "stream",
     "text": [
      "3.14159\n"
     ]
    }
   ],
   "source": [
    "# 메서드가 전역 변수에 접근할때, 그 전역 변수는 메서드가 정의된 파일에서 찾는다.\n",
    "PI = 3.14159\n",
    "\n",
    "class Calculator:\n",
    "    PI = 3.111\n",
    "    def calculate(self, radius):\n",
    "        return PI * (radius ** 2)\n",
    "    \n",
    "    def print_pi(self):\n",
    "        print(PI)\n",
    "\n",
    "calc = Calculator()\n",
    "calc.print_pi()"
   ]
  },
  {
   "cell_type": "markdown",
   "id": "c0528843",
   "metadata": {},
   "source": [
    "While one rarely encounters a good reason for using global data in a method, there are many legitimate uses of global scope: for one thing, functions and modules imported into the global scope can be used by methods, as well as functions and classes defined in it. Usually, the class containing the method is itself defined in this global scope, and in the next section we'll find some good reasons why a method would want to reference its own class.\n",
    "\n",
    "\n",
    "> the class containing the method is itself defined in this global scope\n",
    "> The class where the method belongs is itself created in this global scope.\n",
    "> 클래스 그 자체가 전역 스코프에서 정의됨.\n",
    "\n",
    "Each value is an object, and therefore has a class (also called its type). It is stored as object.__class__."
   ]
  }
 ],
 "metadata": {
  "kernelspec": {
   "display_name": "venv",
   "language": "python",
   "name": "python3"
  },
  "language_info": {
   "codemirror_mode": {
    "name": "ipython",
    "version": 3
   },
   "file_extension": ".py",
   "mimetype": "text/x-python",
   "name": "python",
   "nbconvert_exporter": "python",
   "pygments_lexer": "ipython3",
   "version": "3.11.13"
  }
 },
 "nbformat": 4,
 "nbformat_minor": 5
}
