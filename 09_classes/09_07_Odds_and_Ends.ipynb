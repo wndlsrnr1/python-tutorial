{
 "cells": [
  {
   "cell_type": "markdown",
   "id": "c191a54c",
   "metadata": {},
   "source": [
    "9.7. Odds and Ends\n",
    "\n",
    "Sometimes it is useful to have a data type similar to the pascal \"record\" or C \"struct\", bundling together a new named data items. The idiomatic approach is to use dataclasses for this purpose:\n",
    "\n",
    "> idiomatic: 관용적인 자연스러운"
   ]
  },
  {
   "cell_type": "code",
   "execution_count": 2,
   "id": "4bc0c1c1",
   "metadata": {},
   "outputs": [
    {
     "name": "stdout",
     "output_type": "stream",
     "text": [
      "computer lab\n",
      "1000\n"
     ]
    }
   ],
   "source": [
    "from dataclasses import dataclass\n",
    "\n",
    "@dataclass\n",
    "class Employee:\n",
    "    name: str\n",
    "    dept: str\n",
    "    salary: int\n",
    "\n",
    "john = Employee(name=\"john\", dept=\"computer lab\", salary=1000)\n",
    "print(john.dept)\n",
    "print(john.salary)\n"
   ]
  },
  {
   "cell_type": "markdown",
   "id": "a0de37f0",
   "metadata": {},
   "source": [
    "A peice of Python code that expects particular abstract data type can often be passed a class that emulates the methods of that data type instead. \n",
    "\n",
    "```py\n",
    "\n",
    "my_list = MyList(['a', 'b', 'c'])\n",
    "result = process_items(my_list) \n",
    "\n",
    "```\n",
    "\n",
    "For instance, if you have a function that formats some data from a file object, you can define a class methods read() and readline() that get the data from a string buffer instead, and pass it as an argument\n",
    "\n",
    "Instance method objects have attributes, too: m.__self__ is the instance object with the method m(), and m.__func__ is the function object corresponding to the method."
   ]
  },
  {
   "cell_type": "code",
   "execution_count": null,
   "id": "ed75d0af",
   "metadata": {},
   "outputs": [],
   "source": [
    "# 파일 객체를 기대하는 함수\n",
    "def format_data(file_obj):\n",
    "    content = file_obj.read()\n",
    "    return content.upper()\n",
    "\n",
    "# 실제 파일 대신 문자열 버퍼에서 읽는 클래스\n",
    "\n",
    "class StringBuffer:\n",
    "    def __init__(self, data):\n",
    "        self.data = data\n",
    "        self.position = 0\n",
    "\n",
    "    def read(self):\n",
    "        pass\n",
    "\n",
    "    def readline(self):\n",
    "        pass\n",
    "\n",
    "    def seek(self, pos):\n",
    "        self.position = pos\n",
    "\n",
    "\n",
    "# 문자열 버퍼 객체를 파일처럼 사용\n",
    "buffer = StringBuffer(\"hello\\nworld\\ntest\")\n",
    "result = format_data(buffer)\n",
    "print(result)"
   ]
  },
  {
   "cell_type": "code",
   "execution_count": 4,
   "id": "e9bb86b9",
   "metadata": {},
   "outputs": [
    {
     "name": "stdout",
     "output_type": "stream",
     "text": [
      "<__main__.Hi object at 0x7e3a7014d4f0>\n",
      "<function Hi.hello at 0x7e3a47ce2700>\n"
     ]
    }
   ],
   "source": [
    "class Hi:\n",
    "    def hello():\n",
    "        print(\"hello\")\n",
    "        return \"hello\"\n",
    "\n",
    "\n",
    "print(Hi().hello.__self__)\n",
    "print(Hi().hello.__func__)"
   ]
  }
 ],
 "metadata": {
  "kernelspec": {
   "display_name": "venv",
   "language": "python",
   "name": "python3"
  },
  "language_info": {
   "codemirror_mode": {
    "name": "ipython",
    "version": 3
   },
   "file_extension": ".py",
   "mimetype": "text/x-python",
   "name": "python",
   "nbconvert_exporter": "python",
   "pygments_lexer": "ipython3",
   "version": "3.12.4"
  }
 },
 "nbformat": 4,
 "nbformat_minor": 5
}
