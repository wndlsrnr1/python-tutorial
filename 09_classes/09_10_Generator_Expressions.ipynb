{
 "cells": [
  {
   "cell_type": "markdown",
   "id": "af6efb44",
   "metadata": {},
   "source": [
    "9.10. Generator Expressions\n",
    "\n"
   ]
  }
 ],
 "metadata": {
  "language_info": {
   "name": "python"
  }
 },
 "nbformat": 4,
 "nbformat_minor": 5
}
