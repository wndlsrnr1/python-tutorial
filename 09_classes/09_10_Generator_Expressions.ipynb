{
 "cells": [
  {
   "cell_type": "markdown",
   "id": "af6efb44",
   "metadata": {},
   "source": [
    "9.10. Generator Expressions\n",
    "\n",
    "Some simple generators can be coded succinctly as expressions using a syntax similar to list comprehensions but with parentheses intead of square brackets.Theses expressions are designed for situations where the generator is used right away by an enclosing function. Generator expressions are more compact but less verstile than full generator definitions and tend to be more memory friendly than equivalent list comprehensions.\n",
    "\n",
    "> succintly: The code succinctly implements the algorithm 간결하고 명확하게 표현하는 것\n",
    "> parentheses: ()\n",
    "> generator expressions and generator definitinos"
   ]
  },
  {
   "cell_type": "code",
   "execution_count": 4,
   "id": "7e9c6204",
   "metadata": {},
   "outputs": [
    {
     "name": "stdout",
     "output_type": "stream",
     "text": [
      "{'a', 'f', 'd', 's'}\n",
      "(123, 'hi2')\n"
     ]
    },
    {
     "data": {
      "text/plain": [
       "['f', 'l', 'o', 'g']"
      ]
     },
     "execution_count": 4,
     "metadata": {},
     "output_type": "execute_result"
    }
   ],
   "source": [
    "sum(i*i for i in range(10))\n",
    "\n",
    "xvec = [10 , 20, 30]\n",
    "yvec = [7, 5, 3]\n",
    "sum(x * y for x, y in zip  (xvec, yvec))\n",
    "page = \"asdfasdfadsf\"\n",
    "unique_words = set(word for line in page for word in line.split())\n",
    "print(unique_words)\n",
    "graduates = [{\"gpa\": 123, \"name\": \"hi\"}, {\"gpa\": 123, \"name\": \"hi2\"}]\n",
    "valedictorian = max((student[\"gpa\"], student[\"name\"]) for student in graduates)\n",
    "print(valedictorian)\n",
    "\n",
    "data = \"golf\"\n",
    "list(data[i] for  i in range(len(data)-1, -1, -1))\n"
   ]
  }
 ],
 "metadata": {
  "kernelspec": {
   "display_name": "venv",
   "language": "python",
   "name": "python3"
  },
  "language_info": {
   "codemirror_mode": {
    "name": "ipython",
    "version": 3
   },
   "file_extension": ".py",
   "mimetype": "text/x-python",
   "name": "python",
   "nbconvert_exporter": "python",
   "pygments_lexer": "ipython3",
   "version": "3.12.4"
  }
 },
 "nbformat": 4,
 "nbformat_minor": 5
}
