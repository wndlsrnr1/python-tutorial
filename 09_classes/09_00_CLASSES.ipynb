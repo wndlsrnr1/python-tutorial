{
 "cells": [
  {
   "cell_type": "markdown",
   "id": "adce8b33",
   "metadata": {},
   "source": [
    "# 9. Classes\n",
    "\n",
    "Classes provide a means of bundling data and functionality together. Creating a new class creates a new type of object, allowing new instances of that type to be made. Each class instance can have attributes attached to it for maintaining its state. Class instance can also have methods (defined by its class) for modifying its state. 🙏\n",
    "\n",
    "Compared with other programming languages, Python's class mechanism adds classes with a minimum of new syntax and semantics. It is a mixture of the class mechanisms found in C++ and Modula-3. Python classes provide all the standard features of Object Oriented Programming: The class inheritance mechanism allows multiple base classes, a derived class can override any methods of its base class or classes. and a method can call the method of a base class with the same name. Objects can contain arbitrary amounts and kinds of data. As is true for modules, classes partake of the dynamic nature of Python; they are created at runtime, and can be modified further after creation.\n",
    "\n",
    "In C++ terminology, normally class members(including the data members) are public (except see below Private Variables), and all member functions are virtual. As in Modula-3, there are no shorthands for referencing the object's members from its members: the method function is declared with an explicit first argument representing the object, which is provided implicitly by the call. As in Smalltalk, 🙏classes themselves are objects.This provides semantics for importing and renaming. Unlike C++ and Modula-3, built-in types can be used as base classes for extension by the user. 🙏Also, Like in C++, most built-in operators with special syntax (arithmetic operator, subscripting etc.) can be redefined for class instances.\n",
    "\n",
    "(Lacking universally accepted terminology to talk about classes, I will occasional use of Smalltalk and C++ terms. I would use Modula-3 terms, since its object-oriented semantics are closer to those of Python than C++, but I expect that few readers have heard of it.)\n"
   ]
  },
  {
   "cell_type": "markdown",
   "id": "a7936e67",
   "metadata": {},
   "source": [
    "## 9.1 A Word About Names and Objects\n",
    "\n",
    "Objects have individuality, and multiple names (in multiple scopes) can be bound to the same object. This is known as aliasing in other languages. This is usually not appreciated on a first glance at Python.This is usually not appreciated on a first glance at Python, and can be safely ignored when dealing with immutable basic types (numbers, strings, tuples). However, aliasing has a possibly surprising effect on the semantics of Python code involving mutable objects such as lists, dictionaries, and most other types. This is usually used to the benefit of the program, since aliases behave like pointers in some respects. For example, passing an object is cheap since only a pointer is passed by the implementation; and if a function modifies an object passed as an argument, the caller will see the change -- this eliminates the need for two different argument passing mechanisms as in Pascal.\n"
   ]
  },
  {
   "cell_type": "code",
   "execution_count": null,
   "id": "d2d09b1e",
   "metadata": {},
   "outputs": [],
   "source": [
    "class Person:\n",
    "    def __init__(self, name):\n",
    "        self.name = name\n",
    "\n",
    "original = Person(\"Alice\")\n",
    "alias = original\n",
    "\n",
    "alias.name = \"Bob\"\n",
    "print(original.name)\n"
   ]
  },
  {
   "cell_type": "markdown",
   "id": "b5fe2973",
   "metadata": {},
   "source": [
    "## 9.2. Python Scopes and Namespaces\n",
    "\n",
    "Before introducing classes, I first have to tell you something about Python's scope rules. Class definitions play some neat tricks with namespaces, and you need to know how scopes and namespaces work to fully understand what's going on. Incidentally, knowledge about this subject is useful for any advanced Python programmer.\n",
    "\n",
    "Let's begin with some definitions.\n",
    "\n",
    "A namespace is a mapping from names to objects. Most namespaces are currently implemented as Python dictionaries, but that's normally not noticeable in any way (except for performance), and it may change in the future. Examples of namespaces are: the set of built-in names (containing functions such as abs(), and built-in exception names); the global names in a module; and the local names in a function invocation. In a sense the set of attributes of an object also form a namespace. The important thing to know about namespaces is that there is absolutely no relation between names in different namespaces; for instance, two different modules may both define a function maximize without confusion — users of the modules must prefix it with the module name.\n",
    "\n",
    "By the way, I use the word attribute for any name following a dot — for example, in the expression z.real, real is an attribute of the object z. Strictly speaking, references to names in modules are attribute references: in the expression modname.funcname, modname is a module object and funcname is an attribute of it. In this case there happens to be a straightforward mapping between the module's attributes and the global names defined in the module: they share the same namespace!\n"
   ]
  },
  {
   "cell_type": "code",
   "execution_count": null,
   "id": "70591142",
   "metadata": {},
   "outputs": [],
   "source": [
    "from typing import List\n",
    "from functools import reduce\n",
    "\n",
    "class CalcBoring:\n",
    "    \n",
    "    @classmethod\n",
    "    def sum(cls, *args: List[int]):\n",
    "        results: int = 0\n",
    "        for i in args:\n",
    "            results += i\n",
    "        return results\n",
    "\n",
    "class CalcFancy:\n",
    "\n",
    "    @classmethod\n",
    "    def sum(cls, *args: List[int]):\n",
    "        # lambda \n",
    "         return reduce(lambda x, y: x + y, args, 0)\n",
    "\n",
    "\n",
    "assert CalcBoring.sum(1, 2, 3, 4, 5) == CalcFancy.sum(1, 2, 3, 4, 5)\n"
   ]
  },
  {
   "cell_type": "markdown",
   "id": "4dc0a4a9",
   "metadata": {},
   "source": [
    "Attributes may be read-only or writable. In the latter case, assignment to attributes is possible. Module attributes are writable: you can write modname.the_answer = 42. Writable attributes may also be deleted with the del statement. For example, del modname.the_answer will remove the attribute the_answer from the object named by modname.\n"
   ]
  },
  {
   "cell_type": "code",
   "execution_count": null,
   "id": "eaea2258",
   "metadata": {},
   "outputs": [],
   "source": [
    "hi = \"check if it is deleted.\"\n",
    "\n",
    "print(hi)\n",
    "\n",
    "del hi\n",
    "\n",
    "try:\n",
    "    print(hi)\n",
    "except Exception as e:\n",
    "    print(e)\n"
   ]
  },
  {
   "cell_type": "markdown",
   "id": "fbc66358",
   "metadata": {},
   "source": [
    "Namespaces are created at different moments and have different lifetimes. The namespace containing the built-in names is created when the Python interpreter starts up, and is never deleted. The global namespace for a module is created when the module definition is read in; normally, module namespaces also last until the interpreter quits. The statements executed by the top-level invocation of the interpreter, either read from a script file or interactively, are considered part of a module called __main__, so they have their own global namespace.\n",
    "\n",
    "The local namespace for a function is created when the function is called, and deleted when the function returns or raises an exception that is not handled within the function. (Actually, forgetting would be a better way to describe what actually happens.) Of course, recursive invocations each have their own local namespace.\n",
    "\n",
    "A scope is a textual region of a Python program where a namespace is directly accessible. \"Directly accessible\" here means that an unqualified reference to a name attempts to find the name in the namespace.\n"
   ]
  },
  {
   "cell_type": "code",
   "execution_count": null,
   "id": "48b89db8",
   "metadata": {},
   "outputs": [],
   "source": [
    "# hi called in method cannot change global value. it is just make a another namespace\n",
    "\n",
    "from typing import Any\n",
    "\n",
    "hi = \"hi\"\n",
    "\n",
    "def hi_is_in_it():\n",
    "    print(hi)\n",
    "    hi: Any = None\n",
    "    print(hi)\n",
    "    return None\n",
    "\n",
    "def i_will_chang_hi_in_it():\n",
    "    global hi\n",
    "    hi = \"HI\"\n",
    "\n",
    "hi_is_in_it()\n",
    "\n",
    "try:\n",
    "    print(hi)\n",
    "except Exception as e:\n",
    "    print(e)\n",
    "\n",
    "i_will_chang_hi_in_it()\n",
    "\n",
    "print(hi)\n"
   ]
  },
  {
   "cell_type": "markdown",
   "id": "5d9c0de3",
   "metadata": {},
   "source": [
    "Although scopes are determined statically, they are used dynamically. At any time during execution, there are 3 or 4 nested scopes whose namespaces are directly accessible:\n",
    "\n",
    "- the innermost scope, which is searched first, contains the local names\n",
    "- the scopes of any enclosing functions, which are searched starting with the nearest enclosing scope, contain non-local, but also non-global names\n",
    "- the next-to-last scope contains the current module's global names\n",
    "- the outermost scope (searched last) is the namespace containing built-in names\n",
    "\n",
    "If a name is declared global, then all references and assignments go directly to the next-to-last scope containing the module's global names. To rebind variables found outside of the innermost scope, the nonlocal statement can be used; if not declared nonlocal, those variables are read-only (an attempt to write to such a variable will simply create a new local variable in the innermost scope, leaving the identically named outer variable unchanged.)\n",
    "\n",
    "Usually, the local scope references the local names of the (textually) current function. Outside functions, the local scope references the same namespace as the global scope: the module's namespace. Class definitions place yet another namespace in the local scope.\n",
    "\n",
    "It is important to realize that scopes are determined textually: the global scope of a function defined in a module is done dynamically, at run time -- however, the language definition is evolving towards static name resolution, at \"compile\" time, so don't rely on dynamic name resolution! (In fact, local variables are already determined statically.)\n",
    "\n",
    "A special quirk of Python is that - if no global or nonlocal statement is in effect - assignments to names always go into the innermost scope. Assignments do not copy data - they just bind names to objects. The same is true for deletions: the statement del x removes the binding of x from the namespace referenced by local scope. In fact, all operations that introduce new names use the local scope: in particular, import statements and function definitions bind the module or function name in the local scope.\n",
    "\n",
    "The global statement can be used to indicate that particular variables live in the global scope and should be rebound there; the nonlocal statement indicates that particular variables live in an enclosing scope and should be rebound there.\n"
   ]
  },
  {
   "cell_type": "markdown",
   "id": "9576f898",
   "metadata": {},
   "source": [
    "## Scopes and Namespaces Example\n",
    "\n",
    "This is an example demonstrating how to reference the different scopes and namespaces, and how global and nonlocal affect variable binding:\n"
   ]
  },
  {
   "cell_type": "code",
   "execution_count": null,
   "id": "70f33d61",
   "metadata": {},
   "outputs": [],
   "source": [
    "def scope_test():\n",
    "    def do_local():\n",
    "        spam = \"local spam\"\n",
    "\n",
    "    def do_nonlocal():\n",
    "        nonlocal spam\n",
    "        spam = \"nonlocal spam\"\n",
    "\n",
    "    def do_global():\n",
    "        global spam\n",
    "        spam = \"global spam\"\n",
    "\n",
    "    spam = \"test spam\"\n",
    "    do_local()\n",
    "    print(\"After local assignment:\", spam)\n",
    "    do_nonlocal()\n",
    "    print(\"After nonlocal assignment:\", spam)\n",
    "    do_global()\n",
    "    print(\"In global scope: \", spam)\n",
    "\n",
    "\n",
    "scope_test()\n",
    "print(\"In global scope: \", spam)\n"
   ]
  },
  {
   "cell_type": "markdown",
   "id": "ab4ab9c5",
   "metadata": {},
   "source": [
    "The output of the example code is:\n",
    "\n",
    "After local assignment: test spam\n",
    "After nonlocal assignment: nonlocal spam\n",
    "After global assignment: nonlocal spam\n",
    "In global scope: global spam\n",
    "\n",
    "Note how the local assignment (which is default) didn't change scope_test's binding of spam. The nonlocal assignment changed scope_test's binding of spam, and the global assignment changed the module-level binding.\n",
    "\n",
    "You can also see that there was no previous binding for spam before the global assignment.\n"
   ]
  },
  {
   "cell_type": "markdown",
   "id": "5533af7b",
   "metadata": {},
   "source": []
  }
 ],
 "metadata": {
  "language_info": {
   "name": "python"
  }
 },
 "nbformat": 4,
 "nbformat_minor": 5
}
