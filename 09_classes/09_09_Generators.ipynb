{
 "cells": [
  {
   "cell_type": "markdown",
   "id": "0498491d",
   "metadata": {},
   "source": [
    "9.9. Generators\n",
    "\n",
    "Generators are simple and powerful tool for creating iteratdors. They are written like regular functions but use the yield statement whenever they want to return data. Each time next() is called on it, the generator resumes where it left off (it remembers all the data values and which statement was last executed). An example shows that generators can be trivially easy to create: \n"
   ]
  },
  {
   "cell_type": "code",
   "execution_count": null,
   "id": "457faa72",
   "metadata": {},
   "outputs": [
    {
     "name": "stdout",
     "output_type": "stream",
     "text": [
      "f\n",
      "l\n",
      "o\n",
      "g\n"
     ]
    }
   ],
   "source": [
    "def reverse(data):\n",
    "    for index in range(len(data)-1, -1, -1):\n",
    "        yield data[index]\n",
    "\n",
    "for char in reverse(\"golf\"):\n",
    "    print(char)"
   ]
  },
  {
   "cell_type": "markdown",
   "id": "e28e08c4",
   "metadata": {},
   "source": [
    "Anything that can be done with generators can also down with calss-based iterators as describedin the previous section. What makes generators so compact is that the ** _ _iter_ _ **() and ** _ _next_ _ **() methods are created automatically.\n",
    "\n",
    "Another key feature is that the local variables and execution state are automatically saved between calls. This made the function easier to write and much more clear than an approach using instance variables like self.index and self.data\n",
    "\n",
    "In addition to automatic method creation and saving program state, when generators terminate, they automatically raise **StopIteration**. In combiantion, these features make it easy to create iterators with no more effort than writing a regular function. "
   ]
  }
 ],
 "metadata": {
  "kernelspec": {
   "display_name": "venv",
   "language": "python",
   "name": "python3"
  },
  "language_info": {
   "codemirror_mode": {
    "name": "ipython",
    "version": 3
   },
   "file_extension": ".py",
   "mimetype": "text/x-python",
   "name": "python",
   "nbconvert_exporter": "python",
   "pygments_lexer": "ipython3",
   "version": "3.12.4"
  }
 },
 "nbformat": 4,
 "nbformat_minor": 5
}
