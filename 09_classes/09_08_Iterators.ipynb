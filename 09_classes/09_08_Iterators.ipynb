{
 "cells": [
  {
   "cell_type": "markdown",
   "id": "ccdbfde1",
   "metadata": {},
   "source": [
    "9.8. Iterators\n",
    "\n",
    "By now you have probably noticed that most container objects can be looped over using a for\n",
    "statement:\n",
    "\n",
    "> container objects: list, dictionary, tuple, set\n"
   ]
  },
  {
   "cell_type": "code",
   "execution_count": null,
   "id": "1b9214bf",
   "metadata": {},
   "outputs": [
    {
     "name": "stdout",
     "output_type": "stream",
     "text": [
      "1\n",
      "2\n",
      "3\n",
      "1\n",
      "2\n",
      "3\n",
      "one\n",
      "two\n",
      "1\n",
      "2\n",
      "3\n"
     ]
    }
   ],
   "source": [
    "for element in [1, 2, 3]:\n",
    "    print(element)\n",
    "\n",
    "for element in (1, 2, 3):\n",
    "    print(element)\n",
    "\n",
    "for key in {\"one\": 1, \"two\": 2}:\n",
    "    print(key)\n",
    "\n",
    "for key in {\"one\": 1, \"two\": 2}:\n",
    "    pass\n",
    "\n",
    "for char in \"123\":\n",
    "    print(char)\n",
    "\n",
    "#for line in open(\"myfile.txt\"):\n",
    "#    print(line, end=\"\")"
   ]
  },
  {
   "cell_type": "markdown",
   "id": "7d0a677f",
   "metadata": {},
   "source": [
    "This style of access is clear, concise, and convenient. The use of iterators pervades and unifies Python.\n",
    "\n",
    "> pervades: 널리 퍼지다, 스며들다. this pattern pervades the entire codeabse\n",
    "> unifies: 통합하다, 하나로 만들다. This API unifies several protocols\n",
    "\n",
    "Begind the scenes, the for statement calls iter() on the container object. The function returns an iterator object that defines the method __next__() which access elements in the container one at a time. When there are no more elements, __next__() raises a StopIteration exception which tells the for loop to terminate. You can call the __next__() method using the next() built-in function; this example shows how it all works:"
   ]
  },
  {
   "cell_type": "code",
   "execution_count": null,
   "id": "df270afb",
   "metadata": {},
   "outputs": [],
   "source": [
    "s = \"abc\"\n",
    "it = iter(s)\n",
    "it\n",
    "\n",
    "next(it)\n",
    "next(it)\n",
    "next(it)\n",
    "\n",
    "# StopIteration"
   ]
  },
  {
   "cell_type": "markdown",
   "id": "aadb66a1",
   "metadata": {},
   "source": [
    ">  __iter__, __next__, StopIteration\n",
    "\n",
    "Having seen the mechanics behind the iterator protocl, it is easy to add iterator behavior to your classes, Define an __iter__() method which returns an object with a __next__() method. If the class defines __next__(), then __iter__() can just return self:"
   ]
  },
  {
   "cell_type": "code",
   "execution_count": 4,
   "id": "f9dd1fd3",
   "metadata": {},
   "outputs": [
    {
     "name": "stdout",
     "output_type": "stream",
     "text": [
      "m\n",
      "a\n",
      "p\n",
      "s\n"
     ]
    }
   ],
   "source": [
    "class Reverse:\n",
    "    \"\"\"Iterator for looping over a sequence backwords.\"\"\"\n",
    "    def __init__(self, data):\n",
    "        self.data = data\n",
    "        self.index = len(data)\n",
    "    \n",
    "    def __iter__(self):\n",
    "        return self\n",
    "    \n",
    "    def __next__(self):\n",
    "        if self.index == 0:\n",
    "            raise StopIteration\n",
    "\n",
    "        self.index = self.index - 1\n",
    "        return self.data[self.index]\n",
    "\n",
    "rev = Reverse(\"spam\")\n",
    "iter(rev)\n",
    "\n",
    "for char in rev:\n",
    "    print(char)"
   ]
  }
 ],
 "metadata": {
  "kernelspec": {
   "display_name": "venv",
   "language": "python",
   "name": "python3"
  },
  "language_info": {
   "codemirror_mode": {
    "name": "ipython",
    "version": 3
   },
   "file_extension": ".py",
   "mimetype": "text/x-python",
   "name": "python",
   "nbconvert_exporter": "python",
   "pygments_lexer": "ipython3",
   "version": "3.12.4"
  }
 },
 "nbformat": 4,
 "nbformat_minor": 5
}
